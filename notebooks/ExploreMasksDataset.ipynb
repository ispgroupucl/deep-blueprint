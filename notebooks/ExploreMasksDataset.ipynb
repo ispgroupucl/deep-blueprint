{
 "cells": [
  {
   "cell_type": "code",
   "execution_count": 1,
   "metadata": {},
   "outputs": [],
   "source": [
    "from pathlib import Path\n",
    "import numpy as np\n",
    "import SimpleITK as sitk\n",
    "import matplotlib.pyplot as plt\n",
    "from tqdm.notebook import tqdm\n",
    "from itkwidgets import view\n",
    "import cv2\n",
    "import multiprocessing as mp\n",
    "import SharedArray as sa\n",
    "from bioblue.nb import *\n",
    "from bioblue.plot import cm\n",
    "from bioblue.registration.utilities import display_images_with_alpha\n",
    "from bioblue.registration import callbacks as regcbs\n",
    "from ipywidgets import interact, fixed\n",
    "import pickle"
   ]
  },
  {
   "cell_type": "code",
   "execution_count": 2,
   "metadata": {},
   "outputs": [],
   "source": [
    "shared_mem = \"image_sdffj\"\n",
    "\n",
    "def readimage(i, scanfile, shape):\n",
    "    scan = cv2.imread(scanfile, cv2.IMREAD_UNCHANGED)\n",
    "    scan = cv2.resize(scan, tuple(reversed(shape)), cv2.INTER_CUBIC)\n",
    "    image = sa.attach(f\"shm://{shared_mem}\")\n",
    "    image[:,:,i] = scan"
   ]
  },
  {
   "cell_type": "code",
   "execution_count": 8,
   "metadata": {},
   "outputs": [
    {
     "name": "stdout",
     "output_type": "stream",
     "text": [
      "/home/vjoosdeterbe/projects/masks/s4-1h-bin\n",
      "(511, 2201)\n"
     ]
    },
    {
     "data": {
      "application/vnd.jupyter.widget-view+json": {
       "model_id": "f250316ca1e349a2b7364d24f5ca36db",
       "version_major": 2,
       "version_minor": 0
      },
      "text/plain": [
       "  0%|          | 0/2000 [00:00<?, ?it/s]"
      ]
     },
     "metadata": {},
     "output_type": "display_data"
    },
    {
     "name": "stdout",
     "output_type": "stream",
     "text": [
      "/home/vjoosdeterbe/projects/masks/s4-2h\n",
      "(526, 2052)\n"
     ]
    },
    {
     "data": {
      "application/vnd.jupyter.widget-view+json": {
       "model_id": "8bfb16dfdeef459cb54833d9ec40a8d1",
       "version_major": 2,
       "version_minor": 0
      },
      "text/plain": [
       "  0%|          | 0/1951 [00:00<?, ?it/s]"
      ]
     },
     "metadata": {},
     "output_type": "display_data"
    },
    {
     "name": "stdout",
     "output_type": "stream",
     "text": [
      "/home/vjoosdeterbe/projects/masks/s4-13mv2\n",
      "(509, 2194)\n"
     ]
    },
    {
     "data": {
      "application/vnd.jupyter.widget-view+json": {
       "model_id": "04ef4e0b44264327824cdc06b7b14941",
       "version_major": 2,
       "version_minor": 0
      },
      "text/plain": [
       "  0%|          | 0/1781 [00:00<?, ?it/s]"
      ]
     },
     "metadata": {},
     "output_type": "display_data"
    },
    {
     "name": "stdout",
     "output_type": "stream",
     "text": [
      "/home/vjoosdeterbe/projects/masks/s4-2h-bin\n",
      "(526, 2052)\n"
     ]
    },
    {
     "data": {
      "application/vnd.jupyter.widget-view+json": {
       "model_id": "7c2f6b94af664fe58e496861571b03f3",
       "version_major": 2,
       "version_minor": 0
      },
      "text/plain": [
       "  0%|          | 0/1951 [00:00<?, ?it/s]"
      ]
     },
     "metadata": {},
     "output_type": "display_data"
    },
    {
     "name": "stdout",
     "output_type": "stream",
     "text": [
      "/home/vjoosdeterbe/projects/masks/s4-13m\n",
      "(546, 2563)\n"
     ]
    },
    {
     "data": {
      "application/vnd.jupyter.widget-view+json": {
       "model_id": "f0d5b96f7b9b4e56b586d9b26f28eb3b",
       "version_major": 2,
       "version_minor": 0
      },
      "text/plain": [
       "  0%|          | 0/1901 [00:00<?, ?it/s]"
      ]
     },
     "metadata": {},
     "output_type": "display_data"
    },
    {
     "name": "stdout",
     "output_type": "stream",
     "text": [
      "/home/vjoosdeterbe/projects/masks/s4-1h\n",
      "(511, 2201)\n"
     ]
    },
    {
     "data": {
      "application/vnd.jupyter.widget-view+json": {
       "model_id": "5d21c36a401e45ecb4e204d1d0a5aa41",
       "version_major": 2,
       "version_minor": 0
      },
      "text/plain": [
       "  0%|          | 0/2000 [00:00<?, ?it/s]"
      ]
     },
     "metadata": {},
     "output_type": "display_data"
    }
   ],
   "source": [
    "scanspath = Path(\"~/projects/masks\").expanduser()\n",
    "images = {}\n",
    "for scandir in scanspath.iterdir():\n",
    "    if not scandir.is_dir():\n",
    "        continue\n",
    "    if \"s4\" not in scandir.name:\n",
    "        continue\n",
    "    print(scandir)\n",
    "    suffix = next(scandir.glob(\"*\")).suffix\n",
    "    scanfiles = [str(x) for x in sorted((scandir).glob(f\"*{suffix}\"))]# [250:-250:4]\n",
    "    scanfirst = cv2.imread(scanfiles[0], cv2.IMREAD_UNCHANGED)\n",
    "    shape = tuple(int(x) for x in scanfirst.shape)\n",
    "    print(shape)\n",
    "    args = [(i,x,shape) for i,x in enumerate(scanfiles)]\n",
    "    image = np.zeros(shape+(len(scanfiles),), dtype=scanfirst.dtype) # sa.create(f\"shm://{shared_mem}\", shape+(len(scanfiles),))\n",
    "    for i, scanfile in enumerate(tqdm(scanfiles)):\n",
    "        scan = cv2.imread(str(scanfile), cv2.IMREAD_UNCHANGED)\n",
    "        image[:,:,i] = scan\n",
    "        # scan = cv2.resize(scan, shape, cv2.INTER_CUBIC)\n",
    "    images[scandir.name] = image\n",
    "\n",
    "with open(\"tmp/masks.pickle\", 'wb') as picklefile:\n",
    "    pickle.dump(images, picklefile, protocol=pickle.HIGHEST_PROTOCOL)"
   ]
  },
  {
   "cell_type": "code",
   "execution_count": 2,
   "metadata": {},
   "outputs": [],
   "source": [
    "import pickle\n",
    "with open(\"tmp/masks.pickle\", 'rb') as picklefile:\n",
    "    images = pickle.load(picklefile)"
   ]
  },
  {
   "cell_type": "code",
   "execution_count": 3,
   "metadata": {},
   "outputs": [],
   "source": [
    "sitk_s4_2h = sitk.PermuteAxes(sitk.GetImageFromArray(images[\"s4-2h\"].astype(np.float32)), [1,2,0])\n",
    "sitk_s4_1h = sitk.PermuteAxes(sitk.GetImageFromArray(images[\"s4-1h\"].astype(np.float32)), [1,2,0])"
   ]
  },
  {
   "cell_type": "code",
   "execution_count": 4,
   "metadata": {},
   "outputs": [],
   "source": [
    "del images"
   ]
  },
  {
   "cell_type": "code",
   "execution_count": 5,
   "metadata": {},
   "outputs": [],
   "source": [
    "initial_transform = sitk.CenteredTransformInitializer(sitk_s4_2h, sitk_s4_1h, sitk.Euler3DTransform(), sitk.CenteredTransformInitializerFilter.GEOMETRY)\n",
    "# print(initial_transform)\n",
    "moving_resampled = sitk.Resample(sitk_s4_1h, sitk_s4_2h, initial_transform, sitk.sitkLinear, 0.0, sitk_s4_1h.GetPixelID())"
   ]
  },
  {
   "cell_type": "code",
   "execution_count": 6,
   "metadata": {},
   "outputs": [
    {
     "name": "stdout",
     "output_type": "stream",
     "text": [
      "itk::simple::Transform\n",
      " Euler3DTransform (0x55a292d1fb60)\n",
      "   RTTI typeinfo:   itk::Euler3DTransform<double>\n",
      "   Reference Count: 1\n",
      "   Modified Time: 745\n",
      "   Debug: Off\n",
      "   Object Name: \n",
      "   Observers: \n",
      "     none\n",
      "   Matrix: \n",
      "     1 0 0 \n",
      "     0 1 0 \n",
      "     0 0 1 \n",
      "   Offset: [24.5, 74.5, -7.5]\n",
      "   Center: [975, 1025.5, 262.5]\n",
      "   Translation: [24.5, 74.5, -7.5]\n",
      "   Inverse: \n",
      "     1 0 0 \n",
      "     0 1 0 \n",
      "     0 0 1 \n",
      "   Singular: 0\n",
      "   Euler's angles: AngleX=0 AngleY=0 AngleZ=0\n",
      "   m_ComputeZYX = 0\n",
      "\n"
     ]
    }
   ],
   "source": [
    "print(initial_transform)"
   ]
  },
  {
   "cell_type": "code",
   "execution_count": 7,
   "metadata": {},
   "outputs": [
    {
     "data": {
      "application/vnd.jupyter.widget-view+json": {
       "model_id": "0dd7f4d6061643e19b337b09e70c0ef5",
       "version_major": 2,
       "version_minor": 0
      },
      "text/plain": [
       "interactive(children=(IntSlider(value=975, description='image_z', max=1950), FloatSlider(value=0.5, descriptio…"
      ]
     },
     "metadata": {},
     "output_type": "display_data"
    }
   ],
   "source": [
    "interact(display_images_with_alpha, image_z=(0, sitk_s4_2h.GetSize()[2]-1), alpha=(0.0,1.0,0.05), image1=fixed(sitk_s4_2h), image2=fixed(moving_resampled));"
   ]
  },
  {
   "cell_type": "code",
   "execution_count": null,
   "metadata": {},
   "outputs": [],
   "source": [
    "rm = sitk.ImageRegistrationMethod()\n",
    "rm.SetMetricAsMattesMutualInformation(numberOfHistogramBins=50)\n",
    "rm.SetMetricSamplingStrategy(rm.RANDOM)\n",
    "rm.SetMetricSamplingPercentage(0.01)\n",
    "\n",
    "rm.SetInterpolator(sitk.sitkLinear)\n",
    "\n",
    "rm.SetOptimizerAsGradientDescent(learningRate=1.0, numberOfIterations=100, convergenceMinimumValue=1e-6, convergenceWindowSize=10)\n",
    "rm.SetOptimizerScalesFromPhysicalShift()\n",
    "\n",
    "rm.SetShrinkFactorsPerLevel(shrinkFactors=[4,2,1])\n",
    "rm.SetSmoothingSigmasPerLevel(smoothingSigmas=[2,1,0])\n",
    "rm.SmoothingSigmasAreSpecifiedInPhysicalUnitsOn()\n",
    "\n",
    "rm.SetInitialTransform(initial_transform, inPlace=False)\n",
    "\n",
    "rm.AddCommand(sitk.sitkStartEvent, regcbs.metric_start_plot)\n",
    "rm.AddCommand(sitk.sitkEndEvent, regcbs.metric_end_plot)\n",
    "rm.AddCommand(sitk.sitkMultiResolutionIterationEvent, regcbs.metric_update_multires_iterations)\n",
    "rm.AddCommand(sitk.sitkIterationEvent, lambda: regcbs.metric_plot_values(rm))\n",
    "final_transform = rm.Execute(sitk.Cast(sitk_s4_2h, sitk.sitkFloat32), sitk.Cast(sitk_s4_1h, sitk.sitkFloat32))"
   ]
  },
  {
   "cell_type": "code",
   "execution_count": 36,
   "metadata": {},
   "outputs": [
    {
     "ename": "RuntimeError",
     "evalue": "/work/ITK-source/ITK/Modules/Core/Common/src/itkDataObject.cxx:355:\nRequested region is (at least partially) outside the largest possible region.",
     "output_type": "error",
     "traceback": [
      "\u001b[0;31m------------------------------------------------------------------\u001b[0m",
      "\u001b[0;31mRuntimeError\u001b[0m                     Traceback (most recent call last)",
      "\u001b[0;32m<ipython-input-36-e414f45451e0>\u001b[0m in \u001b[0;36m<module>\u001b[0;34m\u001b[0m\n\u001b[0;32m----> 1\u001b[0;31m \u001b[0mdisplay\u001b[0m\u001b[0;34m(\u001b[0m\u001b[0mview\u001b[0m\u001b[0;34m(\u001b[0m\u001b[0ms4_1h\u001b[0m\u001b[0;34m,\u001b[0m \u001b[0ms4_2h_bin\u001b[0m\u001b[0;34m)\u001b[0m\u001b[0;34m)\u001b[0m\u001b[0;34m\u001b[0m\u001b[0;34m\u001b[0m\u001b[0m\n\u001b[0m",
      "\u001b[0;32m/data/workdir/vjoosdeterbe/.cache/pypoetry/virtualenvs/bioblue-wqkgZuJr-py3.7/lib/python3.7/site-packages/itkwidgets/widget_viewer.py\u001b[0m in \u001b[0;36mview\u001b[0;34m(image, label_image, label_image_names, label_image_weights, label_image_blend, cmap, lut, select_roi, interpolation, gradient_opacity, opacity_gaussians, channels, slicing_planes, shadow, blend_mode, point_sets, point_set_colors, point_set_opacities, point_set_representations, point_set_sizes, geometries, geometry_colors, geometry_opacities, ui_collapsed, rotate, annotations, axes, mode, **kwargs)\u001b[0m\n\u001b[1;32m   1084\u001b[0m                     \u001b[0mrotate\u001b[0m\u001b[0;34m=\u001b[0m\u001b[0mrotate\u001b[0m\u001b[0;34m,\u001b[0m \u001b[0mui_collapsed\u001b[0m\u001b[0;34m=\u001b[0m\u001b[0mui_collapsed\u001b[0m\u001b[0;34m,\u001b[0m\u001b[0;34m\u001b[0m\u001b[0;34m\u001b[0m\u001b[0m\n\u001b[1;32m   1085\u001b[0m                     \u001b[0mannotations\u001b[0m\u001b[0;34m=\u001b[0m\u001b[0mannotations\u001b[0m\u001b[0;34m,\u001b[0m \u001b[0maxes\u001b[0m\u001b[0;34m=\u001b[0m\u001b[0maxes\u001b[0m\u001b[0;34m,\u001b[0m \u001b[0mmode\u001b[0m\u001b[0;34m=\u001b[0m\u001b[0mmode\u001b[0m\u001b[0;34m,\u001b[0m\u001b[0;34m\u001b[0m\u001b[0;34m\u001b[0m\u001b[0m\n\u001b[0;32m-> 1086\u001b[0;31m                     **kwargs)\n\u001b[0m\u001b[1;32m   1087\u001b[0m     \u001b[0;32mreturn\u001b[0m \u001b[0mviewer\u001b[0m\u001b[0;34m\u001b[0m\u001b[0;34m\u001b[0m\u001b[0m\n",
      "\u001b[0;32m/data/workdir/vjoosdeterbe/.cache/pypoetry/virtualenvs/bioblue-wqkgZuJr-py3.7/lib/python3.7/site-packages/itkwidgets/widget_viewer.py\u001b[0m in \u001b[0;36m__init__\u001b[0;34m(self, **kwargs)\u001b[0m\n\u001b[1;32m    408\u001b[0m                 \u001b[0;32mif\u001b[0m \u001b[0msize\u001b[0m\u001b[0;34m[\u001b[0m\u001b[0mdim\u001b[0m\u001b[0;34m]\u001b[0m \u001b[0;34m>\u001b[0m \u001b[0mself\u001b[0m\u001b[0;34m.\u001b[0m\u001b[0msize_limit_3d\u001b[0m\u001b[0;34m[\u001b[0m\u001b[0mdim\u001b[0m\u001b[0;34m]\u001b[0m\u001b[0;34m:\u001b[0m\u001b[0;34m\u001b[0m\u001b[0;34m\u001b[0m\u001b[0m\n\u001b[1;32m    409\u001b[0m                     \u001b[0mself\u001b[0m\u001b[0;34m.\u001b[0m\u001b[0m_downsampling\u001b[0m \u001b[0;34m=\u001b[0m \u001b[0;32mTrue\u001b[0m\u001b[0;34m\u001b[0m\u001b[0;34m\u001b[0m\u001b[0m\n\u001b[0;32m--> 410\u001b[0;31m         \u001b[0mself\u001b[0m\u001b[0;34m.\u001b[0m\u001b[0m_update_rendered_image\u001b[0m\u001b[0;34m(\u001b[0m\u001b[0;34m)\u001b[0m\u001b[0;34m\u001b[0m\u001b[0;34m\u001b[0m\u001b[0m\n\u001b[0m\u001b[1;32m    411\u001b[0m         \u001b[0;32mif\u001b[0m \u001b[0mself\u001b[0m\u001b[0;34m.\u001b[0m\u001b[0m_downsampling\u001b[0m\u001b[0;34m:\u001b[0m\u001b[0;34m\u001b[0m\u001b[0;34m\u001b[0m\u001b[0m\n\u001b[1;32m    412\u001b[0m             \u001b[0mself\u001b[0m\u001b[0;34m.\u001b[0m\u001b[0mobserve\u001b[0m\u001b[0;34m(\u001b[0m\u001b[0mself\u001b[0m\u001b[0;34m.\u001b[0m\u001b[0m_on_roi_changed\u001b[0m\u001b[0;34m,\u001b[0m \u001b[0;34m[\u001b[0m\u001b[0;34m'roi'\u001b[0m\u001b[0;34m]\u001b[0m\u001b[0;34m)\u001b[0m\u001b[0;34m\u001b[0m\u001b[0;34m\u001b[0m\u001b[0m\n",
      "\u001b[0;32m/data/workdir/vjoosdeterbe/.cache/pypoetry/virtualenvs/bioblue-wqkgZuJr-py3.7/lib/python3.7/site-packages/itkwidgets/widget_viewer.py\u001b[0m in \u001b[0;36m_update_rendered_image\u001b[0;34m(self)\u001b[0m\n\u001b[1;32m    526\u001b[0m                 \u001b[0mself\u001b[0m\u001b[0;34m.\u001b[0m\u001b[0mshrinker\u001b[0m\u001b[0;34m.\u001b[0m\u001b[0mUpdateLargestPossibleRegion\u001b[0m\u001b[0;34m(\u001b[0m\u001b[0;34m)\u001b[0m\u001b[0;34m\u001b[0m\u001b[0;34m\u001b[0m\u001b[0m\n\u001b[1;32m    527\u001b[0m             \u001b[0;32mif\u001b[0m \u001b[0mself\u001b[0m\u001b[0;34m.\u001b[0m\u001b[0mlabel_image\u001b[0m\u001b[0;34m:\u001b[0m\u001b[0;34m\u001b[0m\u001b[0;34m\u001b[0m\u001b[0m\n\u001b[0;32m--> 528\u001b[0;31m                 \u001b[0mself\u001b[0m\u001b[0;34m.\u001b[0m\u001b[0mlabel_image_shrinker\u001b[0m\u001b[0;34m.\u001b[0m\u001b[0mUpdateLargestPossibleRegion\u001b[0m\u001b[0;34m(\u001b[0m\u001b[0;34m)\u001b[0m\u001b[0;34m\u001b[0m\u001b[0;34m\u001b[0m\u001b[0m\n\u001b[0m\u001b[1;32m    529\u001b[0m             \u001b[0;32mif\u001b[0m \u001b[0mis_largest\u001b[0m\u001b[0;34m:\u001b[0m\u001b[0;34m\u001b[0m\u001b[0;34m\u001b[0m\u001b[0m\n\u001b[1;32m    530\u001b[0m                 \u001b[0;32mif\u001b[0m \u001b[0mself\u001b[0m\u001b[0;34m.\u001b[0m\u001b[0mimage\u001b[0m\u001b[0;34m:\u001b[0m\u001b[0;34m\u001b[0m\u001b[0;34m\u001b[0m\u001b[0m\n",
      "\u001b[0;31mRuntimeError\u001b[0m: /work/ITK-source/ITK/Modules/Core/Common/src/itkDataObject.cxx:355:\nRequested region is (at least partially) outside the largest possible region."
     ]
    }
   ],
   "source": [
    "display(view(s4_1h, s4_2h_bin))"
   ]
  },
  {
   "cell_type": "code",
   "execution_count": 12,
   "metadata": {},
   "outputs": [
    {
     "data": {
      "application/vnd.jupyter.widget-view+json": {
       "model_id": "d008be4cd062423f97284507219feb69",
       "version_major": 2,
       "version_minor": 0
      },
      "text/plain": [
       "Viewer(geometries=[], gradient_opacity=0.22, point_sets=[], rendered_image=<itk.itkImagePython.itkImageD3; pro…"
      ]
     },
     "metadata": {},
     "output_type": "display_data"
    }
   ],
   "source": [
    "for name, image in images.items():\n",
    "    if \"2h\" in name:\n",
    "        display(view(image))\n",
    "        break"
   ]
  },
  {
   "cell_type": "code",
   "execution_count": 19,
   "metadata": {},
   "outputs": [
    {
     "data": {
      "application/vnd.jupyter.widget-view+json": {
       "model_id": "61a465468b85456eb8df44bf2c7afcee",
       "version_major": 2,
       "version_minor": 0
      },
      "text/plain": [
       "Viewer(geometries=[], gradient_opacity=0.22, point_sets=[], rendered_image=<itk.itkImagePython.itkImageD3; pro…"
      ]
     },
     "metadata": {},
     "output_type": "display_data"
    }
   ],
   "source": [
    "for name, image in images.items():\n",
    "    if \"2h\" in name:\n",
    "        display(view(image))\n",
    "        break"
   ]
  }
 ],
 "metadata": {
  "kernelspec": {
   "display_name": "Python 3",
   "language": "python",
   "name": "python3"
  },
  "language_info": {
   "codemirror_mode": {
    "name": "ipython",
    "version": 3
   },
   "file_extension": ".py",
   "mimetype": "text/x-python",
   "name": "python",
   "nbconvert_exporter": "python",
   "pygments_lexer": "ipython3",
   "version": "3.7.3"
  }
 },
 "nbformat": 4,
 "nbformat_minor": 4
}
