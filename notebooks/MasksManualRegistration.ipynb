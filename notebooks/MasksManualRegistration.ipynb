{
 "cells": [
  {
   "cell_type": "code",
   "execution_count": null,
   "id": "related-jewelry",
   "metadata": {},
   "outputs": [],
   "source": [
    "from bioblue.nb import *\n",
    "from ipywidgets import interact, interactive, fixed, interact_manual\n",
    "from IPython.display import clear_output"
   ]
  },
  {
   "cell_type": "code",
   "execution_count": null,
   "id": "polar-boulder",
   "metadata": {},
   "outputs": [],
   "source": [
    "import pickle\n",
    "localscratch = Path(os.environ[\"LOCALSCRATCH\"])\n",
    "\n",
    "with open(localscratch / \"masks.pickle\", 'rb') as picklefile:\n",
    "    images = pickle.load(picklefile)"
   ]
  },
  {
   "cell_type": "code",
   "execution_count": null,
   "id": "pacific-saturday",
   "metadata": {},
   "outputs": [],
   "source": [
    "images[\"s4-2h\"] = images[\"s4-2h\"][0:-1:4,0:-1:4,0:-1:4]\n",
    "images[\"s4-1h\"] = images[\"s4-1h\"][0:-1:4,0:-1:4,0:-1:4]"
   ]
  },
  {
   "cell_type": "code",
   "execution_count": null,
   "id": "downtown-pillow",
   "metadata": {},
   "outputs": [],
   "source": [
    "for n, image in images.items():\n",
    "    print(image.shape)"
   ]
  },
  {
   "cell_type": "code",
   "execution_count": null,
   "id": "directed-candle",
   "metadata": {},
   "outputs": [],
   "source": [
    "look = [\"s4-2h\", \"s4-1h\"]\n",
    "fig, axs = plt.subplots(nrows=1, ncols=3, figsize=(30,8), gridspec_kw={'wspace': 0.1, 'width_ratios':[0.1,0.45,0.45]})\n",
    "for j, ax in enumerate(axs):\n",
    "    ax.imshow(images[\"s4-2h\"].take(100, axis=j), cmap=\"gray\", vmin=0, vmax=255)\n",
    "plt.show()\n",
    "\n",
    "def image_slicer(x,y,z):\n",
    "    clear_output(wait=True)\n",
    "    look = [\"s4-1h\"]\n",
    "    fig, axs = plt.subplots(nrows=len(look), ncols=3, figsize=(30,8), gridspec_kw={'wspace': 0.1, 'width_ratios':[0.1,0.45,0.45]}, squeeze=False)\n",
    "    xyz = [x,y,z]\n",
    "    for i, axi in enumerate(axs):\n",
    "        for j, ax in enumerate(axi):\n",
    "            ax.imshow(images[look[i]].take(xyz[j], axis=j), cmap=\"gray\", vmin=0, vmax=255)\n",
    "    plt.show()\n",
    "\n",
    "maxs = images[\"s4-1h\"].shape\n",
    "interact(image_slicer,x=(0,maxs[0]),y=(0,maxs[1]),z=(0,maxs[2]))"
   ]
  },
  {
   "cell_type": "code",
   "execution_count": null,
   "id": "portuguese-legislature",
   "metadata": {},
   "outputs": [],
   "source": []
  }
 ],
 "metadata": {
  "kernelspec": {
   "display_name": "Python 3",
   "language": "python",
   "name": "python3"
  },
  "language_info": {
   "codemirror_mode": {
    "name": "ipython",
    "version": 3
   },
   "file_extension": ".py",
   "mimetype": "text/x-python",
   "name": "python",
   "nbconvert_exporter": "python",
   "pygments_lexer": "ipython3",
   "version": "3.7.4"
  }
 },
 "nbformat": 4,
 "nbformat_minor": 5
}
