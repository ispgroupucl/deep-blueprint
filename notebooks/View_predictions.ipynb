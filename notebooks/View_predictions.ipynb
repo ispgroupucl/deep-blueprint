{
 "cells": [
  {
   "cell_type": "code",
   "execution_count": 1,
   "id": "655f29ee",
   "metadata": {},
   "outputs": [],
   "source": [
    "import os\n",
    "import glob\n",
    "import numpy as np\n",
    "import nibabel as nib\n",
    "import matplotlib.pyplot as plt\n",
    "from skimage.io import imread\n",
    "import skimage\n",
    "import ipywidgets as widgets\n",
    "from matplotlib import cm\n",
    "from matplotlib.colors import ListedColormap, LinearSegmentedColormap\n",
    "\n",
    "# %matplotlib notebook\n",
    "%matplotlib ipympl"
   ]
  },
  {
   "cell_type": "code",
   "execution_count": 2,
   "id": "b1ca8040",
   "metadata": {},
   "outputs": [
    {
     "name": "stdout",
     "output_type": "stream",
     "text": [
      "211\n"
     ]
    }
   ],
   "source": [
    "seg_types = ['LocalTopHat', 'Grid', 'Sabrina','GroundTruth']\n",
    "\n",
    "dataset_root = \"/globalscratch/users/n/s/nsayez/deepsun_bioblue/2013\"\n",
    "split = 'test'\n",
    "\n",
    "image_folder = os.path.join(dataset_root, split, 'image')\n",
    "gt_folders = {t : os.path.join(dataset_root, split, t) for t in seg_types}\n",
    "\n",
    "# run_folder = \"/home/ucl/elen/nsayez/bio-blueprints/outputs/2021-10-22/23-40-09_LTH_A100\"\n",
    "# run_folder = \"/home/ucl/elen/nsayez/outputs/2021-10-31/02-00-49_Grid\"\n",
    "# run_folder = \"/home/ucl/elen/nsayez/outputs/2021-10-31/02-01-00_LTH_Grid\"\n",
    "run_folders = { \"LTH\":\"/home/ucl/elen/nsayez/bio-blueprints/outputs/2021-10-22/23-40-09_LTH_A100\",\n",
    "                   \"Grid\":\"/home/ucl/elen/nsayez/outputs/2021-10-31/02-00-49_Grid\",\n",
    "                   \"LTH_Grid\":\"/home/ucl/elen/nsayez/outputs/2021-10-31/02-01-00_LTH_Grid\"}\n",
    "\n",
    "# run_folder = \"/home/ucl/elen/nsayez/outputs/2021-10-23/12-55-30_Grid\"\n",
    "# run_folder = \"/home/ucl/elen/nsayez/outputs/2021-10-23/13-01-22_LTH_Grid\"\n",
    "# run_folder = \"/home/ucl/elen/nsayez/outputs/2021-10-23/20-42-14_Sabrina\"\n",
    "# pred_folder = os.path.join(run_folder, 'predictions')\n",
    "pred_folders = {t: os.path.join(run_folders[t] , 'predictions') for t in run_folders.keys()}\n",
    "pred_lsts = {t : sorted(glob.glob(os.path.join(pred_folders[t], '*.png'))) for t in run_folders.keys()}\n",
    "\n",
    "image_lst = sorted(glob.glob(os.path.join(image_folder, '*.FTS')))\n",
    "gt_lst = sorted(glob.glob(os.path.join(gt_folders['GroundTruth'], '*.png')))\n",
    "# gt_lst = sorted(glob.glob(os.path.join(gt_folders['LocalTopHat'], '*.png')))\n",
    "# gt_lst = sorted(glob.glob(os.path.join(gt_folders['Grid'], '*.png')))\n",
    "# gt_lst = sorted(glob.glob(os.path.join(gt_folders['Sabrina'], '*.png')))\n",
    "# pred_lst = sorted(glob.glob(os.path.join(pred_folder, '*.png')))\n",
    "\n",
    "print(len(image_lst))\n",
    "\n",
    "\n",
    "# assert len(image_lst) == len(pred_lst)\n",
    "# assert len(gt_lst) == len(pred_lst)\n",
    "\n"
   ]
  },
  {
   "cell_type": "code",
   "execution_count": 3,
   "id": "ceccaa9c",
   "metadata": {
    "scrolled": false
   },
   "outputs": [
    {
     "ename": "TraitError",
     "evalue": "setting max < min",
     "output_type": "error",
     "traceback": [
      "\u001b[0;31m---------------------------------------------------------------------------\u001b[0m",
      "\u001b[0;31mTraitError\u001b[0m                                Traceback (most recent call last)",
      "\u001b[0;32m/tmp/ipykernel_25698/2916392890.py\u001b[0m in \u001b[0;36m<module>\u001b[0;34m\u001b[0m\n\u001b[1;32m     61\u001b[0m \u001b[0;31m# pred_cb = widgets.Checkbox(value=False, description='Show Prediction')\u001b[0m\u001b[0;34m\u001b[0m\u001b[0;34m\u001b[0m\u001b[0;34m\u001b[0m\u001b[0m\n\u001b[1;32m     62\u001b[0m \u001b[0mpred_cbs\u001b[0m \u001b[0;34m=\u001b[0m \u001b[0;34m[\u001b[0m\u001b[0mwidgets\u001b[0m\u001b[0;34m.\u001b[0m\u001b[0mCheckbox\u001b[0m\u001b[0;34m(\u001b[0m\u001b[0mvalue\u001b[0m\u001b[0;34m=\u001b[0m\u001b[0;32mFalse\u001b[0m\u001b[0;34m,\u001b[0m \u001b[0mdescription\u001b[0m\u001b[0;34m=\u001b[0m\u001b[0;34mf'Show {t}'\u001b[0m\u001b[0;34m)\u001b[0m \u001b[0;32mfor\u001b[0m \u001b[0mt\u001b[0m \u001b[0;32min\u001b[0m \u001b[0mpred_folders\u001b[0m\u001b[0;34m.\u001b[0m\u001b[0mkeys\u001b[0m\u001b[0;34m(\u001b[0m\u001b[0;34m)\u001b[0m\u001b[0;34m]\u001b[0m\u001b[0;34m\u001b[0m\u001b[0;34m\u001b[0m\u001b[0m\n\u001b[0;32m---> 63\u001b[0;31m \u001b[0midx_slider\u001b[0m \u001b[0;34m=\u001b[0m \u001b[0mwidgets\u001b[0m\u001b[0;34m.\u001b[0m\u001b[0mIntSlider\u001b[0m\u001b[0;34m(\u001b[0m\u001b[0mvalue\u001b[0m\u001b[0;34m=\u001b[0m\u001b[0;36m0\u001b[0m\u001b[0;34m,\u001b[0m \u001b[0mmin\u001b[0m\u001b[0;34m=\u001b[0m\u001b[0;36m0\u001b[0m\u001b[0;34m,\u001b[0m \u001b[0mmax\u001b[0m\u001b[0;34m=\u001b[0m\u001b[0mmax_idx\u001b[0m\u001b[0;34m-\u001b[0m\u001b[0;36m1\u001b[0m\u001b[0;34m,\u001b[0m \u001b[0mstep\u001b[0m\u001b[0;34m=\u001b[0m\u001b[0;36m1\u001b[0m\u001b[0;34m,\u001b[0m \u001b[0mdescription\u001b[0m\u001b[0;34m=\u001b[0m\u001b[0;34m\"Image Index\"\u001b[0m\u001b[0;34m)\u001b[0m\u001b[0;34m\u001b[0m\u001b[0;34m\u001b[0m\u001b[0m\n\u001b[0m\u001b[1;32m     64\u001b[0m \u001b[0;34m\u001b[0m\u001b[0m\n\u001b[1;32m     65\u001b[0m \u001b[0;34m\u001b[0m\u001b[0m\n",
      "\u001b[0;32m~/miniconda3/envs/A100-bioblue/lib/python3.9/site-packages/ipywidgets/widgets/widget_int.py\u001b[0m in \u001b[0;36m__init__\u001b[0;34m(self, value, min, max, step, **kwargs)\u001b[0m\n\u001b[1;32m     59\u001b[0m         \u001b[0;32mif\u001b[0m \u001b[0mstep\u001b[0m \u001b[0;32mis\u001b[0m \u001b[0;32mnot\u001b[0m \u001b[0;32mNone\u001b[0m\u001b[0;34m:\u001b[0m\u001b[0;34m\u001b[0m\u001b[0;34m\u001b[0m\u001b[0m\n\u001b[1;32m     60\u001b[0m             \u001b[0mkwargs\u001b[0m\u001b[0;34m[\u001b[0m\u001b[0;34m'step'\u001b[0m\u001b[0;34m]\u001b[0m \u001b[0;34m=\u001b[0m \u001b[0mstep\u001b[0m\u001b[0;34m\u001b[0m\u001b[0;34m\u001b[0m\u001b[0m\n\u001b[0;32m---> 61\u001b[0;31m         \u001b[0msuper\u001b[0m\u001b[0;34m(\u001b[0m\u001b[0mcls\u001b[0m\u001b[0;34m,\u001b[0m \u001b[0mself\u001b[0m\u001b[0;34m)\u001b[0m\u001b[0;34m.\u001b[0m\u001b[0m__init__\u001b[0m\u001b[0;34m(\u001b[0m\u001b[0;34m**\u001b[0m\u001b[0mkwargs\u001b[0m\u001b[0;34m)\u001b[0m\u001b[0;34m\u001b[0m\u001b[0;34m\u001b[0m\u001b[0m\n\u001b[0m\u001b[1;32m     62\u001b[0m \u001b[0;34m\u001b[0m\u001b[0m\n\u001b[1;32m     63\u001b[0m     \u001b[0m__init__\u001b[0m\u001b[0;34m.\u001b[0m\u001b[0m__doc__\u001b[0m \u001b[0;34m=\u001b[0m \u001b[0m_bounded_int_doc_t\u001b[0m\u001b[0;34m\u001b[0m\u001b[0;34m\u001b[0m\u001b[0m\n",
      "\u001b[0;32m~/miniconda3/envs/A100-bioblue/lib/python3.9/site-packages/ipywidgets/widgets/widget_int.py\u001b[0m in \u001b[0;36m__init__\u001b[0;34m(self, value, min, max, step, **kwargs)\u001b[0m\n\u001b[1;32m     91\u001b[0m         \u001b[0;32mif\u001b[0m \u001b[0mstep\u001b[0m \u001b[0;32mis\u001b[0m \u001b[0;32mnot\u001b[0m \u001b[0;32mNone\u001b[0m\u001b[0;34m:\u001b[0m\u001b[0;34m\u001b[0m\u001b[0;34m\u001b[0m\u001b[0m\n\u001b[1;32m     92\u001b[0m             \u001b[0mkwargs\u001b[0m\u001b[0;34m[\u001b[0m\u001b[0;34m'step'\u001b[0m\u001b[0;34m]\u001b[0m \u001b[0;34m=\u001b[0m \u001b[0mstep\u001b[0m\u001b[0;34m\u001b[0m\u001b[0;34m\u001b[0m\u001b[0m\n\u001b[0;32m---> 93\u001b[0;31m         \u001b[0msuper\u001b[0m\u001b[0;34m(\u001b[0m\u001b[0m_BoundedInt\u001b[0m\u001b[0;34m,\u001b[0m \u001b[0mself\u001b[0m\u001b[0;34m)\u001b[0m\u001b[0;34m.\u001b[0m\u001b[0m__init__\u001b[0m\u001b[0;34m(\u001b[0m\u001b[0;34m**\u001b[0m\u001b[0mkwargs\u001b[0m\u001b[0;34m)\u001b[0m\u001b[0;34m\u001b[0m\u001b[0;34m\u001b[0m\u001b[0m\n\u001b[0m\u001b[1;32m     94\u001b[0m \u001b[0;34m\u001b[0m\u001b[0m\n\u001b[1;32m     95\u001b[0m     \u001b[0;34m@\u001b[0m\u001b[0mvalidate\u001b[0m\u001b[0;34m(\u001b[0m\u001b[0;34m'value'\u001b[0m\u001b[0;34m)\u001b[0m\u001b[0;34m\u001b[0m\u001b[0;34m\u001b[0m\u001b[0m\n",
      "\u001b[0;32m~/miniconda3/envs/A100-bioblue/lib/python3.9/site-packages/ipywidgets/widgets/widget_int.py\u001b[0m in \u001b[0;36m__init__\u001b[0;34m(self, value, **kwargs)\u001b[0m\n\u001b[1;32m     73\u001b[0m         \u001b[0;32mif\u001b[0m \u001b[0mvalue\u001b[0m \u001b[0;32mis\u001b[0m \u001b[0;32mnot\u001b[0m \u001b[0;32mNone\u001b[0m\u001b[0;34m:\u001b[0m\u001b[0;34m\u001b[0m\u001b[0;34m\u001b[0m\u001b[0m\n\u001b[1;32m     74\u001b[0m             \u001b[0mkwargs\u001b[0m\u001b[0;34m[\u001b[0m\u001b[0;34m'value'\u001b[0m\u001b[0;34m]\u001b[0m \u001b[0;34m=\u001b[0m \u001b[0mvalue\u001b[0m\u001b[0;34m\u001b[0m\u001b[0;34m\u001b[0m\u001b[0m\n\u001b[0;32m---> 75\u001b[0;31m         \u001b[0msuper\u001b[0m\u001b[0;34m(\u001b[0m\u001b[0m_Int\u001b[0m\u001b[0;34m,\u001b[0m \u001b[0mself\u001b[0m\u001b[0;34m)\u001b[0m\u001b[0;34m.\u001b[0m\u001b[0m__init__\u001b[0m\u001b[0;34m(\u001b[0m\u001b[0;34m**\u001b[0m\u001b[0mkwargs\u001b[0m\u001b[0;34m)\u001b[0m\u001b[0;34m\u001b[0m\u001b[0;34m\u001b[0m\u001b[0m\n\u001b[0m\u001b[1;32m     76\u001b[0m \u001b[0;34m\u001b[0m\u001b[0m\n\u001b[1;32m     77\u001b[0m \u001b[0;34m\u001b[0m\u001b[0m\n",
      "\u001b[0;32m~/miniconda3/envs/A100-bioblue/lib/python3.9/site-packages/ipywidgets/widgets/widget.py\u001b[0m in \u001b[0;36m__init__\u001b[0;34m(self, **kwargs)\u001b[0m\n\u001b[1;32m    410\u001b[0m         \u001b[0;34m\"\"\"Public constructor\"\"\"\u001b[0m\u001b[0;34m\u001b[0m\u001b[0;34m\u001b[0m\u001b[0m\n\u001b[1;32m    411\u001b[0m         \u001b[0mself\u001b[0m\u001b[0;34m.\u001b[0m\u001b[0m_model_id\u001b[0m \u001b[0;34m=\u001b[0m \u001b[0mkwargs\u001b[0m\u001b[0;34m.\u001b[0m\u001b[0mpop\u001b[0m\u001b[0;34m(\u001b[0m\u001b[0;34m'model_id'\u001b[0m\u001b[0;34m,\u001b[0m \u001b[0;32mNone\u001b[0m\u001b[0;34m)\u001b[0m\u001b[0;34m\u001b[0m\u001b[0;34m\u001b[0m\u001b[0m\n\u001b[0;32m--> 412\u001b[0;31m         \u001b[0msuper\u001b[0m\u001b[0;34m(\u001b[0m\u001b[0mWidget\u001b[0m\u001b[0;34m,\u001b[0m \u001b[0mself\u001b[0m\u001b[0;34m)\u001b[0m\u001b[0;34m.\u001b[0m\u001b[0m__init__\u001b[0m\u001b[0;34m(\u001b[0m\u001b[0;34m**\u001b[0m\u001b[0mkwargs\u001b[0m\u001b[0;34m)\u001b[0m\u001b[0;34m\u001b[0m\u001b[0;34m\u001b[0m\u001b[0m\n\u001b[0m\u001b[1;32m    413\u001b[0m \u001b[0;34m\u001b[0m\u001b[0m\n\u001b[1;32m    414\u001b[0m         \u001b[0mWidget\u001b[0m\u001b[0;34m.\u001b[0m\u001b[0m_call_widget_constructed\u001b[0m\u001b[0;34m(\u001b[0m\u001b[0mself\u001b[0m\u001b[0;34m)\u001b[0m\u001b[0;34m\u001b[0m\u001b[0;34m\u001b[0m\u001b[0m\n",
      "\u001b[0;32m~/miniconda3/envs/A100-bioblue/lib/python3.9/site-packages/traitlets/traitlets.py\u001b[0m in \u001b[0;36m__init__\u001b[0;34m(self, *args, **kwargs)\u001b[0m\n\u001b[1;32m   1080\u001b[0m                 \u001b[0;32melse\u001b[0m\u001b[0;34m:\u001b[0m\u001b[0;34m\u001b[0m\u001b[0;34m\u001b[0m\u001b[0m\n\u001b[1;32m   1081\u001b[0m                     \u001b[0;31m# passthrough args that don't set traits to super\u001b[0m\u001b[0;34m\u001b[0m\u001b[0;34m\u001b[0m\u001b[0;34m\u001b[0m\u001b[0m\n\u001b[0;32m-> 1082\u001b[0;31m                     \u001b[0msuper_kwargs\u001b[0m\u001b[0;34m[\u001b[0m\u001b[0mkey\u001b[0m\u001b[0;34m]\u001b[0m \u001b[0;34m=\u001b[0m \u001b[0mvalue\u001b[0m\u001b[0;34m\u001b[0m\u001b[0;34m\u001b[0m\u001b[0m\n\u001b[0m\u001b[1;32m   1083\u001b[0m         \u001b[0;32mtry\u001b[0m\u001b[0;34m:\u001b[0m\u001b[0;34m\u001b[0m\u001b[0;34m\u001b[0m\u001b[0m\n\u001b[1;32m   1084\u001b[0m             \u001b[0msuper\u001b[0m\u001b[0;34m(\u001b[0m\u001b[0mHasTraits\u001b[0m\u001b[0;34m,\u001b[0m \u001b[0mself\u001b[0m\u001b[0;34m)\u001b[0m\u001b[0;34m.\u001b[0m\u001b[0m__init__\u001b[0m\u001b[0;34m(\u001b[0m\u001b[0;34m*\u001b[0m\u001b[0msuper_args\u001b[0m\u001b[0;34m,\u001b[0m \u001b[0;34m**\u001b[0m\u001b[0msuper_kwargs\u001b[0m\u001b[0;34m)\u001b[0m\u001b[0;34m\u001b[0m\u001b[0;34m\u001b[0m\u001b[0m\n",
      "\u001b[0;32m~/miniconda3/envs/A100-bioblue/lib/python3.9/contextlib.py\u001b[0m in \u001b[0;36m__exit__\u001b[0;34m(self, type, value, traceback)\u001b[0m\n\u001b[1;32m    122\u001b[0m         \u001b[0;32mif\u001b[0m \u001b[0mtype\u001b[0m \u001b[0;32mis\u001b[0m \u001b[0;32mNone\u001b[0m\u001b[0;34m:\u001b[0m\u001b[0;34m\u001b[0m\u001b[0;34m\u001b[0m\u001b[0m\n\u001b[1;32m    123\u001b[0m             \u001b[0;32mtry\u001b[0m\u001b[0;34m:\u001b[0m\u001b[0;34m\u001b[0m\u001b[0;34m\u001b[0m\u001b[0m\n\u001b[0;32m--> 124\u001b[0;31m                 \u001b[0mnext\u001b[0m\u001b[0;34m(\u001b[0m\u001b[0mself\u001b[0m\u001b[0;34m.\u001b[0m\u001b[0mgen\u001b[0m\u001b[0;34m)\u001b[0m\u001b[0;34m\u001b[0m\u001b[0;34m\u001b[0m\u001b[0m\n\u001b[0m\u001b[1;32m    125\u001b[0m             \u001b[0;32mexcept\u001b[0m \u001b[0mStopIteration\u001b[0m\u001b[0;34m:\u001b[0m\u001b[0;34m\u001b[0m\u001b[0;34m\u001b[0m\u001b[0m\n\u001b[1;32m    126\u001b[0m                 \u001b[0;32mreturn\u001b[0m \u001b[0;32mFalse\u001b[0m\u001b[0;34m\u001b[0m\u001b[0;34m\u001b[0m\u001b[0m\n",
      "\u001b[0;32m~/miniconda3/envs/A100-bioblue/lib/python3.9/site-packages/traitlets/traitlets.py\u001b[0m in \u001b[0;36mhold_trait_notifications\u001b[0;34m(self)\u001b[0m\n\u001b[1;32m   1205\u001b[0m                                 \u001b[0mself\u001b[0m\u001b[0;34m.\u001b[0m\u001b[0m_trait_values\u001b[0m\u001b[0;34m.\u001b[0m\u001b[0mpop\u001b[0m\u001b[0;34m(\u001b[0m\u001b[0mname\u001b[0m\u001b[0;34m)\u001b[0m\u001b[0;34m\u001b[0m\u001b[0;34m\u001b[0m\u001b[0m\n\u001b[1;32m   1206\u001b[0m                 \u001b[0mcache\u001b[0m \u001b[0;34m=\u001b[0m \u001b[0;34m{\u001b[0m\u001b[0;34m}\u001b[0m\u001b[0;34m\u001b[0m\u001b[0;34m\u001b[0m\u001b[0m\n\u001b[0;32m-> 1207\u001b[0;31m                 \u001b[0;32mraise\u001b[0m \u001b[0me\u001b[0m\u001b[0;34m\u001b[0m\u001b[0;34m\u001b[0m\u001b[0m\n\u001b[0m\u001b[1;32m   1208\u001b[0m             \u001b[0;32mfinally\u001b[0m\u001b[0;34m:\u001b[0m\u001b[0;34m\u001b[0m\u001b[0;34m\u001b[0m\u001b[0m\n\u001b[1;32m   1209\u001b[0m                 \u001b[0mself\u001b[0m\u001b[0;34m.\u001b[0m\u001b[0m_cross_validation_lock\u001b[0m \u001b[0;34m=\u001b[0m \u001b[0;32mFalse\u001b[0m\u001b[0;34m\u001b[0m\u001b[0;34m\u001b[0m\u001b[0m\n",
      "\u001b[0;32m~/miniconda3/envs/A100-bioblue/lib/python3.9/site-packages/traitlets/traitlets.py\u001b[0m in \u001b[0;36mhold_trait_notifications\u001b[0;34m(self)\u001b[0m\n\u001b[1;32m   1191\u001b[0m                 \u001b[0;32mfor\u001b[0m \u001b[0mname\u001b[0m \u001b[0;32min\u001b[0m \u001b[0mlist\u001b[0m\u001b[0;34m(\u001b[0m\u001b[0mcache\u001b[0m\u001b[0;34m.\u001b[0m\u001b[0mkeys\u001b[0m\u001b[0;34m(\u001b[0m\u001b[0;34m)\u001b[0m\u001b[0;34m)\u001b[0m\u001b[0;34m:\u001b[0m\u001b[0;34m\u001b[0m\u001b[0;34m\u001b[0m\u001b[0m\n\u001b[1;32m   1192\u001b[0m                     \u001b[0mtrait\u001b[0m \u001b[0;34m=\u001b[0m \u001b[0mgetattr\u001b[0m\u001b[0;34m(\u001b[0m\u001b[0mself\u001b[0m\u001b[0;34m.\u001b[0m\u001b[0m__class__\u001b[0m\u001b[0;34m,\u001b[0m \u001b[0mname\u001b[0m\u001b[0;34m)\u001b[0m\u001b[0;34m\u001b[0m\u001b[0;34m\u001b[0m\u001b[0m\n\u001b[0;32m-> 1193\u001b[0;31m                     \u001b[0mvalue\u001b[0m \u001b[0;34m=\u001b[0m \u001b[0mtrait\u001b[0m\u001b[0;34m.\u001b[0m\u001b[0m_cross_validate\u001b[0m\u001b[0;34m(\u001b[0m\u001b[0mself\u001b[0m\u001b[0;34m,\u001b[0m \u001b[0mgetattr\u001b[0m\u001b[0;34m(\u001b[0m\u001b[0mself\u001b[0m\u001b[0;34m,\u001b[0m \u001b[0mname\u001b[0m\u001b[0;34m)\u001b[0m\u001b[0;34m)\u001b[0m\u001b[0;34m\u001b[0m\u001b[0;34m\u001b[0m\u001b[0m\n\u001b[0m\u001b[1;32m   1194\u001b[0m                     \u001b[0mself\u001b[0m\u001b[0;34m.\u001b[0m\u001b[0mset_trait\u001b[0m\u001b[0;34m(\u001b[0m\u001b[0mname\u001b[0m\u001b[0;34m,\u001b[0m \u001b[0mvalue\u001b[0m\u001b[0;34m)\u001b[0m\u001b[0;34m\u001b[0m\u001b[0;34m\u001b[0m\u001b[0m\n\u001b[1;32m   1195\u001b[0m             \u001b[0;32mexcept\u001b[0m \u001b[0mTraitError\u001b[0m \u001b[0;32mas\u001b[0m \u001b[0me\u001b[0m\u001b[0;34m:\u001b[0m\u001b[0;34m\u001b[0m\u001b[0;34m\u001b[0m\u001b[0m\n",
      "\u001b[0;32m~/miniconda3/envs/A100-bioblue/lib/python3.9/site-packages/traitlets/traitlets.py\u001b[0m in \u001b[0;36m_cross_validate\u001b[0;34m(self, obj, value)\u001b[0m\n\u001b[1;32m    618\u001b[0m         \u001b[0;32mif\u001b[0m \u001b[0mself\u001b[0m\u001b[0;34m.\u001b[0m\u001b[0mname\u001b[0m \u001b[0;32min\u001b[0m \u001b[0mobj\u001b[0m\u001b[0;34m.\u001b[0m\u001b[0m_trait_validators\u001b[0m\u001b[0;34m:\u001b[0m\u001b[0;34m\u001b[0m\u001b[0;34m\u001b[0m\u001b[0m\n\u001b[1;32m    619\u001b[0m             \u001b[0mproposal\u001b[0m \u001b[0;34m=\u001b[0m \u001b[0mBunch\u001b[0m\u001b[0;34m(\u001b[0m\u001b[0;34m{\u001b[0m\u001b[0;34m'trait'\u001b[0m\u001b[0;34m:\u001b[0m \u001b[0mself\u001b[0m\u001b[0;34m,\u001b[0m \u001b[0;34m'value'\u001b[0m\u001b[0;34m:\u001b[0m \u001b[0mvalue\u001b[0m\u001b[0;34m,\u001b[0m \u001b[0;34m'owner'\u001b[0m\u001b[0;34m:\u001b[0m \u001b[0mobj\u001b[0m\u001b[0;34m}\u001b[0m\u001b[0;34m)\u001b[0m\u001b[0;34m\u001b[0m\u001b[0;34m\u001b[0m\u001b[0m\n\u001b[0;32m--> 620\u001b[0;31m             \u001b[0mvalue\u001b[0m \u001b[0;34m=\u001b[0m \u001b[0mobj\u001b[0m\u001b[0;34m.\u001b[0m\u001b[0m_trait_validators\u001b[0m\u001b[0;34m[\u001b[0m\u001b[0mself\u001b[0m\u001b[0;34m.\u001b[0m\u001b[0mname\u001b[0m\u001b[0;34m]\u001b[0m\u001b[0;34m(\u001b[0m\u001b[0mobj\u001b[0m\u001b[0;34m,\u001b[0m \u001b[0mproposal\u001b[0m\u001b[0;34m)\u001b[0m\u001b[0;34m\u001b[0m\u001b[0;34m\u001b[0m\u001b[0m\n\u001b[0m\u001b[1;32m    621\u001b[0m         \u001b[0;32melif\u001b[0m \u001b[0mhasattr\u001b[0m\u001b[0;34m(\u001b[0m\u001b[0mobj\u001b[0m\u001b[0;34m,\u001b[0m \u001b[0;34m'_%s_validate'\u001b[0m \u001b[0;34m%\u001b[0m \u001b[0mself\u001b[0m\u001b[0;34m.\u001b[0m\u001b[0mname\u001b[0m\u001b[0;34m)\u001b[0m\u001b[0;34m:\u001b[0m\u001b[0;34m\u001b[0m\u001b[0;34m\u001b[0m\u001b[0m\n\u001b[1;32m    622\u001b[0m             \u001b[0mmeth_name\u001b[0m \u001b[0;34m=\u001b[0m \u001b[0;34m'_%s_validate'\u001b[0m \u001b[0;34m%\u001b[0m \u001b[0mself\u001b[0m\u001b[0;34m.\u001b[0m\u001b[0mname\u001b[0m\u001b[0;34m\u001b[0m\u001b[0;34m\u001b[0m\u001b[0m\n",
      "\u001b[0;32m~/miniconda3/envs/A100-bioblue/lib/python3.9/site-packages/traitlets/traitlets.py\u001b[0m in \u001b[0;36m__call__\u001b[0;34m(self, *args, **kwargs)\u001b[0m\n\u001b[1;32m    975\u001b[0m         \u001b[0;34m\"\"\"Pass `*args` and `**kwargs` to the handler's function if it exists.\"\"\"\u001b[0m\u001b[0;34m\u001b[0m\u001b[0;34m\u001b[0m\u001b[0m\n\u001b[1;32m    976\u001b[0m         \u001b[0;32mif\u001b[0m \u001b[0mhasattr\u001b[0m\u001b[0;34m(\u001b[0m\u001b[0mself\u001b[0m\u001b[0;34m,\u001b[0m \u001b[0;34m'func'\u001b[0m\u001b[0;34m)\u001b[0m\u001b[0;34m:\u001b[0m\u001b[0;34m\u001b[0m\u001b[0;34m\u001b[0m\u001b[0m\n\u001b[0;32m--> 977\u001b[0;31m             \u001b[0;32mreturn\u001b[0m \u001b[0mself\u001b[0m\u001b[0;34m.\u001b[0m\u001b[0mfunc\u001b[0m\u001b[0;34m(\u001b[0m\u001b[0;34m*\u001b[0m\u001b[0margs\u001b[0m\u001b[0;34m,\u001b[0m \u001b[0;34m**\u001b[0m\u001b[0mkwargs\u001b[0m\u001b[0;34m)\u001b[0m\u001b[0;34m\u001b[0m\u001b[0;34m\u001b[0m\u001b[0m\n\u001b[0m\u001b[1;32m    978\u001b[0m         \u001b[0;32melse\u001b[0m\u001b[0;34m:\u001b[0m\u001b[0;34m\u001b[0m\u001b[0;34m\u001b[0m\u001b[0m\n\u001b[1;32m    979\u001b[0m             \u001b[0;32mreturn\u001b[0m \u001b[0mself\u001b[0m\u001b[0;34m.\u001b[0m\u001b[0m_init_call\u001b[0m\u001b[0;34m(\u001b[0m\u001b[0;34m*\u001b[0m\u001b[0margs\u001b[0m\u001b[0;34m,\u001b[0m \u001b[0;34m**\u001b[0m\u001b[0mkwargs\u001b[0m\u001b[0;34m)\u001b[0m\u001b[0;34m\u001b[0m\u001b[0;34m\u001b[0m\u001b[0m\n",
      "\u001b[0;32m~/miniconda3/envs/A100-bioblue/lib/python3.9/site-packages/ipywidgets/widgets/widget_int.py\u001b[0m in \u001b[0;36m_validate_max\u001b[0;34m(self, proposal)\u001b[0m\n\u001b[1;32m    116\u001b[0m         \u001b[0mmax\u001b[0m \u001b[0;34m=\u001b[0m \u001b[0mproposal\u001b[0m\u001b[0;34m[\u001b[0m\u001b[0;34m'value'\u001b[0m\u001b[0;34m]\u001b[0m\u001b[0;34m\u001b[0m\u001b[0;34m\u001b[0m\u001b[0m\n\u001b[1;32m    117\u001b[0m         \u001b[0;32mif\u001b[0m \u001b[0mmax\u001b[0m \u001b[0;34m<\u001b[0m \u001b[0mself\u001b[0m\u001b[0;34m.\u001b[0m\u001b[0mmin\u001b[0m\u001b[0;34m:\u001b[0m\u001b[0;34m\u001b[0m\u001b[0;34m\u001b[0m\u001b[0m\n\u001b[0;32m--> 118\u001b[0;31m             \u001b[0;32mraise\u001b[0m \u001b[0mTraitError\u001b[0m\u001b[0;34m(\u001b[0m\u001b[0;34m'setting max < min'\u001b[0m\u001b[0;34m)\u001b[0m\u001b[0;34m\u001b[0m\u001b[0;34m\u001b[0m\u001b[0m\n\u001b[0m\u001b[1;32m    119\u001b[0m         \u001b[0;32mif\u001b[0m \u001b[0mmax\u001b[0m \u001b[0;34m<\u001b[0m \u001b[0mself\u001b[0m\u001b[0;34m.\u001b[0m\u001b[0mvalue\u001b[0m\u001b[0;34m:\u001b[0m\u001b[0;34m\u001b[0m\u001b[0;34m\u001b[0m\u001b[0m\n\u001b[1;32m    120\u001b[0m             \u001b[0mself\u001b[0m\u001b[0;34m.\u001b[0m\u001b[0mvalue\u001b[0m \u001b[0;34m=\u001b[0m \u001b[0mmax\u001b[0m\u001b[0;34m\u001b[0m\u001b[0;34m\u001b[0m\u001b[0m\n",
      "\u001b[0;31mTraitError\u001b[0m: setting max < min"
     ]
    }
   ],
   "source": [
    "max_rows = 2\n",
    "max_cols = 2\n",
    "\n",
    "max_idx = len(gt_lst)\n",
    "\n",
    "# print(train_img.shape,train_label.shape)\n",
    "\n",
    "\n",
    "cmap_pred = cm.cool\n",
    "cmap_pred = cmap_pred(range(255))\n",
    "cmap_pred = ListedColormap([(0, 0, 0, 0), *cmap_pred])\n",
    "\n",
    "cmap_gt = cm.autumn\n",
    "cmap_gt = cmap_gt(range(255))\n",
    "cmap_gt = ListedColormap([(0, 0, 0, 0), *cmap_gt])\n",
    "\n",
    "\n",
    "def refresh(slider): \n",
    "    xlims0 = axes0[0].get_xlim()\n",
    "    ylims0 = axes0[0].get_ylim()\n",
    "    \n",
    "    axes0[0].clear()\n",
    "    \n",
    "    test_img = imread(image_lst[idx_slider.value])\n",
    "    test_label = imread(gt_lst[idx_slider.value])\n",
    "    print(gt_lst[idx_slider.value])\n",
    "    pred_label = imread(pred_lst[idx_slider.value])\n",
    "    \n",
    "    if img_cb.value:\n",
    "        axes0[0].imshow(test_img, cmap=\"gray\", interpolation=\"None\")\n",
    "    if gt_cb.value:\n",
    "        axes0[0].imshow(test_label, cmap=cmap_gt, interpolation=\"None\", alpha=.5)\n",
    "        \n",
    "#     if pred_cb.value:\n",
    "#         axes0[0].imshow(pred_label, cmap=cmap_pred, interpolation=\"None\", alpha=.5)\n",
    "    \n",
    "    for i, cb in enumerate(pred_cbs):\n",
    "        if cb.value: \n",
    "            tmp = imread(pred_lsts[list(pred_folders.keys())[i]][idx_slider.value])\n",
    "            axes0[0].imshow(tmp, cmap=cmap_pred, interpolation=\"None\", alpha=.5)  \n",
    "        \n",
    "    if xlims0 != (0.0, 1.0):\n",
    "        axes0[0].set_xlim(xlims0)\n",
    "        axes0[0].set_ylim(ylims0)\n",
    "    return\n",
    "\n",
    "max_rows = 1\n",
    "max_cols = 1\n",
    "\n",
    "plt.ioff()\n",
    "fig_widget0, axes0 = plt.subplots(nrows=max_rows, ncols=max_cols, figsize=(8,8))\n",
    "\n",
    "try:\n",
    "    len(axes0)\n",
    "except TypeError:\n",
    "    axes0 = [axes0]\n",
    "\n",
    "plt.ion()\n",
    "img_cb = widgets.Checkbox(value=True, description='Show img')\n",
    "gt_cb = widgets.Checkbox(value=False, description='Show gt')\n",
    "# pred_cb = widgets.Checkbox(value=False, description='Show Prediction')\n",
    "pred_cbs = [widgets.Checkbox(value=False, description=f'Show {t}') for t in pred_folders.keys()]\n",
    "idx_slider = widgets.IntSlider(value=0, min=0, max=max_idx-1, step=1, description=\"Image Index\")\n",
    "\n",
    "\n",
    "# Input image to predict\n",
    "test_img = imread(image_lst[0])\n",
    "#Target corresponding to input\n",
    "test_label = imread(gt_lst[0])\n",
    "#prediction\n",
    "pred_label = imread(pred_lst[0])\n",
    "\n",
    "axes0[0].imshow(test_img, cmap=\"gray\", interpolation=\"None\")\n",
    "\n",
    "img_cb.observe(refresh, names='value')\n",
    "gt_cb.observe(refresh, names='value')\n",
    "for cb in pred_cbs:\n",
    "    cb.observe(refresh, names='value')\n",
    "# pred_cb.observe(refresh, names='value')\n",
    "idx_slider.observe(refresh, names='value')\n",
    "\n",
    "widgets.VBox([widgets.HBox([idx_slider, img_cb, gt_cb]+pred_cbs), fig_widget0.canvas])"
   ]
  },
  {
   "cell_type": "code",
   "execution_count": 82,
   "id": "50b27db6",
   "metadata": {},
   "outputs": [],
   "source": [
    "axes0[0].set_xlim([640,1035])\n",
    "axes0[0].set_ylim([1135, 1340])\n",
    "axes0[0].invert_yaxis()"
   ]
  },
  {
   "cell_type": "code",
   "execution_count": 12,
   "id": "624cbbc3",
   "metadata": {},
   "outputs": [],
   "source": [
    "# plt.style.available"
   ]
  },
  {
   "cell_type": "markdown",
   "id": "70cb0279",
   "metadata": {},
   "source": [
    "# Compute IoU"
   ]
  },
  {
   "cell_type": "code",
   "execution_count": 4,
   "id": "6d3eccb5",
   "metadata": {},
   "outputs": [],
   "source": [
    "from typing import Optional\n",
    "import pytorch_lightning as pl\n",
    "from torchmetrics import ConfusionMatrix\n",
    "import torch\n",
    "import tqdm\n",
    "\n",
    "\n",
    "class IoU(ConfusionMatrix):\n",
    "    def __init__(\n",
    "        self,\n",
    "        num_classes: int,\n",
    "        threshold: float = 0.5,\n",
    "        class_index: Optional[int] = None,\n",
    "    ):\n",
    "        super().__init__(\n",
    "            num_classes,\n",
    "            normalize=None,\n",
    "            threshold=threshold,\n",
    "            compute_on_step=True,\n",
    "            dist_sync_on_step=False,\n",
    "        )\n",
    "        self.class_index = class_index\n",
    "\n",
    "    def compute(self) -> torch.Tensor:\n",
    "        cm = super().compute().to(torch.double)\n",
    "        iou = cm.diag() / (cm.sum(dim=1) + cm.sum(dim=0) - cm.diag() + 1e-15)\n",
    "        if self.class_index is None:\n",
    "            return iou.mean()\n",
    "        else:\n",
    "            return iou[self.class_index]\n"
   ]
  },
  {
   "cell_type": "code",
   "execution_count": 26,
   "id": "a0c4a21b",
   "metadata": {
    "scrolled": false
   },
   "outputs": [
    {
     "name": "stdout",
     "output_type": "stream",
     "text": [
      "torch.Size([36, 2048, 2048])\n",
      "torch.Size([36, 2048, 2048])\n",
      "torch.Size([36, 2048, 2048])\n",
      "torch.Size([36, 2048, 2048])\n"
     ]
    }
   ],
   "source": [
    "models_folders = { \"LTH\":\"/home/ucl/elen/nsayez/bio-blueprints/outputs/2021-10-22/23-40-09_LTH_A100\",\n",
    "                   \"Grid\":\"/home/ucl/elen/nsayez/outputs/2021-10-31/02-00-49_Grid\",\n",
    "                   \"LTH_Grid\":\"/home/ucl/elen/nsayez/outputs/2021-10-31/02-01-00_LTH_Grid\"}\n",
    "\n",
    "\n",
    "gt_folder = os.path.join(dataset_root, 'GroundTruth')\n",
    "\n",
    "pred_folders = {t : models_folders[t] for t in models_folders.keys()}\n",
    "pred_lsts = {t : sorted(glob.glob(os.path.join(pred_folders[t],'predictions' , '*.png'))) for t in models_folders.keys()}\n",
    "\n",
    "# print(pred_lsts)\n",
    "\n",
    "# build tensor for the whole reference set\n",
    "gt_tensors = [] \n",
    "for i, path in enumerate(gt_lst[:]):\n",
    "    np_array = np.array(imread(path))\n",
    "    gt_tensors.append( torch.unsqueeze(torch.from_numpy(np_array), axis=0))\n",
    "    \n",
    "tot_gt = torch.cat(gt_tensors)\n",
    "print(tot_gt.shape)\n",
    "#########################################\n",
    "LTH_tensors = [] \n",
    "for i, path in enumerate(pred_lsts['LTH'][:]):\n",
    "    np_array = np.array(imread(path))\n",
    "#     print(np_array.shape)\n",
    "    LTH_tensors.append( torch.unsqueeze(torch.from_numpy(np_array.astype(np.uint8)), axis=0))\n",
    "\n",
    "tot_LTH = torch.cat(LTH_tensors)\n",
    "print(tot_LTH.shape)\n",
    "#########################################\n",
    "Grid_tensors = [] \n",
    "for i, path in enumerate(pred_lsts['Grid'][:]):\n",
    "    np_array = np.array(imread(path))\n",
    "#     print(np_array.shape)\n",
    "    Grid_tensors.append( torch.unsqueeze(torch.from_numpy(np_array.astype(np.uint8)), axis=0))\n",
    "\n",
    "tot_Grid = torch.cat(Grid_tensors)\n",
    "print(tot_Grid.shape)\n",
    "#########################################\n",
    "LTHGrid_tensors = [] \n",
    "for i, path in enumerate(pred_lsts['LTH_Grid'][:]):\n",
    "    np_array = np.array(imread(path))\n",
    "#     print(np_array.shape)\n",
    "    LTHGrid_tensors.append( torch.unsqueeze(torch.from_numpy(np_array.astype(np.uint8)), axis=0))\n",
    "\n",
    "tot_LTHGrid = torch.cat(LTHGrid_tensors)\n",
    "print(tot_LTHGrid.shape)"
   ]
  },
  {
   "cell_type": "markdown",
   "id": "703a97b7",
   "metadata": {},
   "source": [
    "LTH"
   ]
  },
  {
   "cell_type": "code",
   "execution_count": 17,
   "id": "6160a1ea",
   "metadata": {},
   "outputs": [
    {
     "name": "stderr",
     "output_type": "stream",
     "text": [
      "100%|████████████████████████████████████████████████████████████████████| 36/36 [02:55<00:00,  4.88s/it]\n"
     ]
    }
   ],
   "source": [
    "LTH_ious = {'0':[], '1': [], '2':[] }\n",
    "for i in tqdm.tqdm(range(tot_gt.shape[0])):\n",
    "    for c in range(3):\n",
    "        iou = IoU(num_classes=3, class_index=c)\n",
    "        res = iou(tot_LTH[i,:,:], tot_gt[i,:,:])\n",
    "        LTH_ious[str(c)].append(res)\n",
    "#         print(f'class {c} -> {res}')\n",
    "# print(ious)"
   ]
  },
  {
   "cell_type": "code",
   "execution_count": 18,
   "id": "0f90d0a5",
   "metadata": {},
   "outputs": [
    {
     "name": "stdout",
     "output_type": "stream",
     "text": [
      "{'0': 0.9994255558845039, '1': 0.46166523830002326, '2': 0.41807050159951287}\n"
     ]
    }
   ],
   "source": [
    "LTH_mean_ious = {t: np.mean(LTH_ious[t]) for t in LTH_ious.keys()}\n",
    "print(LTH_mean_ious)"
   ]
  },
  {
   "cell_type": "code",
   "execution_count": 42,
   "id": "cedc959c",
   "metadata": {},
   "outputs": [
    {
     "data": {
      "text/plain": [
       "tensor([1.3946e+08, 2.9563e+05, 5.1900e+04])"
      ]
     },
     "execution_count": 42,
     "metadata": {},
     "output_type": "execute_result"
    }
   ],
   "source": [
    "LTH_cm = ConfusionMatrix(num_classes=3)\n",
    "LTH_cm(tot_LTH[0,:,:], tot_gt[0,:,:])\n",
    "cm = LTH_cm.compute()\n",
    "(100*cm).mean(axis=1)"
   ]
  },
  {
   "cell_type": "code",
   "execution_count": 19,
   "id": "51d9962e",
   "metadata": {},
   "outputs": [
    {
     "name": "stderr",
     "output_type": "stream",
     "text": [
      " 50%|██████████████████████████████████                                  | 18/36 [00:30<00:28,  1.60s/it]/home/ucl/elen/nsayez/miniconda3/envs/A100-bioblue/lib/python3.9/site-packages/torchmetrics/utilities/prints.py:36: UserWarning: 3 nan values found in confusion matrix have been replaced with zeros.\n",
      "  warnings.warn(*args, **kwargs)\n",
      "100%|████████████████████████████████████████████████████████████████████| 36/36 [01:00<00:00,  1.67s/it]\n"
     ]
    }
   ],
   "source": [
    "# CMs are shaped [target_classes X pred_classes]\n",
    "LTH_cms = []\n",
    "# for i in tqdm.tqdm(range(2)):\n",
    "for i in tqdm.tqdm(range(tot_gt.shape[0])):\n",
    "    LTH_cm = ConfusionMatrix(num_classes=3, normalize='true')\n",
    "    LTH_cm(tot_LTH[i,:,:], tot_gt[i,:,:]).to('cuda:0')\n",
    "    cm = LTH_cm.compute()\n",
    "#     print(cm)\n",
    "#     print((cm.sum(dim=1) + cm.sum(dim=0) - cm.diag()).sum() )\n",
    "    LTH_cms.append(cm)\n",
    "    \n",
    "LTH_cms = [torch.unsqueeze(item, 0) for item in LTH_cms.copy()]"
   ]
  },
  {
   "cell_type": "code",
   "execution_count": 43,
   "id": "f0203bce",
   "metadata": {},
   "outputs": [
    {
     "name": "stdout",
     "output_type": "stream",
     "text": [
      "torch.Size([1, 3, 3])\n",
      "torch.Size([36, 3, 3])\n",
      "[['99.95', '0.05', '0.00'], ['10.50', '82.37', '7.13'], ['8.75', '30.70', '57.77']]\n"
     ]
    }
   ],
   "source": [
    "print(LTH_cms[1].shape)\n",
    "tot_LTH_CM = torch.cat(LTH_cms)\n",
    "print(tot_LTH_CM.shape)\n",
    "mean_LTH_CM = torch.mean(100*tot_LTH_CM,0)\n",
    "std_LTH_CM = torch.std(100*tot_LTH_CM,0)\n",
    "# print(mean_LTH_CM)\n",
    "# print(std_LTH_CM)\n",
    "\n",
    "LTH_CM_percents = [[0,0,0],[0,0,0],[0,0,0]]\n",
    "for i in range(mean_LTH_CM.shape[0]):\n",
    "#     print(i)\n",
    "    for j in range(mean_LTH_CM.shape[1]):\n",
    "#         print(j)\n",
    "        LTH_CM_percents[i][j] = '{:.2f}'.format(mean_LTH_CM[i,j])\n",
    "    \n",
    "print(LTH_CM_percents)"
   ]
  },
  {
   "cell_type": "markdown",
   "id": "6812a8da",
   "metadata": {},
   "source": [
    "GRID"
   ]
  },
  {
   "cell_type": "code",
   "execution_count": 21,
   "id": "1bd09bfd",
   "metadata": {},
   "outputs": [
    {
     "name": "stderr",
     "output_type": "stream",
     "text": [
      "100%|████████████████████████████████████████████████████████████████████| 36/36 [02:53<00:00,  4.81s/it]\n"
     ]
    }
   ],
   "source": [
    "Grid_ious = {'0':[], '1': [], '2':[] }\n",
    "for i in tqdm.tqdm(range(tot_gt.shape[0])):\n",
    "    for c in range(3):\n",
    "        iou = IoU(num_classes=3, class_index=c)\n",
    "        res = iou(tot_Grid[i,:,:], tot_gt[i,:,:])\n",
    "        Grid_ious[str(c)].append(res)\n",
    "#         print(f'class {c} -> {res}')\n",
    "# print(ious)"
   ]
  },
  {
   "cell_type": "code",
   "execution_count": 22,
   "id": "33f44b11",
   "metadata": {},
   "outputs": [
    {
     "name": "stdout",
     "output_type": "stream",
     "text": [
      "{'0': 0.9971051985493143, '1': 0.16713670299456862, '2': 0.2961009397067897}\n"
     ]
    }
   ],
   "source": [
    "Grid_mean_ious = {t: np.mean(Grid_ious[t]) for t in Grid_ious.keys()}\n",
    "print(Grid_mean_ious)"
   ]
  },
  {
   "cell_type": "code",
   "execution_count": 23,
   "id": "6dc8667e",
   "metadata": {},
   "outputs": [
    {
     "name": "stderr",
     "output_type": "stream",
     "text": [
      "100%|████████████████████████████████████████████████████████████████████| 36/36 [00:57<00:00,  1.60s/it]\n"
     ]
    }
   ],
   "source": [
    "# CMs are shaped [target_classes X pred_classes]\n",
    "Grid_cms = []\n",
    "# for i in tqdm.tqdm(range(2)):\n",
    "for i in tqdm.tqdm(range(tot_gt.shape[0])):\n",
    "    Grid_cm = ConfusionMatrix(num_classes=3, normalize='true')\n",
    "    Grid_cm(tot_Grid[i,:,:], tot_gt[i,:,:]).to('cuda:0')\n",
    "    cm = Grid_cm.compute()\n",
    "#     print(cm)\n",
    "#     print((cm.sum(dim=1) + cm.sum(dim=0) - cm.diag()).sum() )\n",
    "    Grid_cms.append(cm)\n",
    "    \n",
    "Grid_cms = [torch.unsqueeze(item, 0) for item in Grid_cms.copy()]"
   ]
  },
  {
   "cell_type": "code",
   "execution_count": 45,
   "id": "e9e5077c",
   "metadata": {},
   "outputs": [
    {
     "name": "stdout",
     "output_type": "stream",
     "text": [
      "torch.Size([1, 3, 3])\n",
      "torch.Size([36, 3, 3])\n",
      "[['99.71', '0.28', '0.00'], ['1.83', '79.09', '19.08'], ['0.94', '34.69', '61.60']]\n"
     ]
    }
   ],
   "source": [
    "print(Grid_cms[1].shape)\n",
    "tot_Grid_CM = torch.cat(Grid_cms)\n",
    "print(tot_Grid_CM.shape)\n",
    "mean_Grid_CM = torch.mean(100*tot_Grid_CM,0)\n",
    "std_Grid_CM = torch.std(100*tot_Grid_CM,0)\n",
    "# print(mean_Grid_CM)\n",
    "# print(std_Grid_CM)\n",
    "\n",
    "Grid_CM_percents = [[0,0,0],[0,0,0],[0,0,0]]\n",
    "for i in range(mean_Grid_CM.shape[0]):\n",
    "#     print(i)\n",
    "    for j in range(mean_Grid_CM.shape[1]):\n",
    "#         print(j)\n",
    "        Grid_CM_percents[i][j] = '{:.2f}'.format(mean_Grid_CM[i,j])\n",
    "    \n",
    "print(Grid_CM_percents)"
   ]
  },
  {
   "cell_type": "markdown",
   "id": "5a561ec9",
   "metadata": {},
   "source": [
    "LTH + GRID"
   ]
  },
  {
   "cell_type": "code",
   "execution_count": 27,
   "id": "3d390110",
   "metadata": {},
   "outputs": [
    {
     "name": "stderr",
     "output_type": "stream",
     "text": [
      "100%|████████████████████████████████████████████████████████████████████| 36/36 [02:54<00:00,  4.84s/it]\n"
     ]
    }
   ],
   "source": [
    "LTHGrid_ious = {'0':[], '1': [], '2':[] }\n",
    "for i in tqdm.tqdm(range(tot_gt.shape[0])):\n",
    "    for c in range(3):\n",
    "        iou = IoU(num_classes=3, class_index=c)\n",
    "        res = iou(tot_LTHGrid[i,:,:], tot_gt[i,:,:])\n",
    "        LTHGrid_ious[str(c)].append(res)\n",
    "#         print(f'class {c} -> {res}')\n",
    "# print(ious)"
   ]
  },
  {
   "cell_type": "code",
   "execution_count": 28,
   "id": "93904902",
   "metadata": {},
   "outputs": [
    {
     "name": "stdout",
     "output_type": "stream",
     "text": [
      "{'0': 0.9992724310155298, '1': 0.42064785852554576, '2': 0.36716534020620395}\n"
     ]
    }
   ],
   "source": [
    "LTHGrid_mean_ious = {t: np.mean(LTHGrid_ious[t]) for t in LTHGrid_ious.keys()}\n",
    "print(LTHGrid_mean_ious)"
   ]
  },
  {
   "cell_type": "code",
   "execution_count": 29,
   "id": "778f6416",
   "metadata": {},
   "outputs": [
    {
     "name": "stderr",
     "output_type": "stream",
     "text": [
      "100%|████████████████████████████████████████████████████████████████████| 36/36 [00:57<00:00,  1.59s/it]\n"
     ]
    }
   ],
   "source": [
    "# CMs are shaped [target_classes X pred_classes]\n",
    "LTHGrid_cms = []\n",
    "# for i in tqdm.tqdm(range(2)):\n",
    "for i in tqdm.tqdm(range(tot_gt.shape[0])):\n",
    "    LTHGrid_cm = ConfusionMatrix(num_classes=3, normalize='true')\n",
    "    LTHGrid_cm(tot_LTHGrid[i,:,:], tot_gt[i,:,:]).to('cuda:0')\n",
    "    cm = LTHGrid_cm.compute()\n",
    "#     print(cm)\n",
    "#     print((cm.sum(dim=1) + cm.sum(dim=0) - cm.diag()).sum() )\n",
    "    LTHGrid_cms.append(cm)\n",
    "    \n",
    "LTHGrid_cms = [torch.unsqueeze(item, 0) for item in LTHGrid_cms.copy()]"
   ]
  },
  {
   "cell_type": "code",
   "execution_count": 44,
   "id": "45b4d276",
   "metadata": {},
   "outputs": [
    {
     "name": "stdout",
     "output_type": "stream",
     "text": [
      "torch.Size([1, 3, 3])\n",
      "torch.Size([36, 3, 3])\n",
      "[['99.93', '0.07', '0.00'], ['8.24', '82.03', '9.73'], ['3.92', '38.00', '55.30']]\n"
     ]
    }
   ],
   "source": [
    "print(LTHGrid_cms[1].shape)\n",
    "tot_LTHGrid_CM = torch.cat(LTHGrid_cms)\n",
    "print(tot_Grid_CM.shape)\n",
    "mean_LTHGrid_CM = torch.mean(100*tot_LTHGrid_CM,0)\n",
    "std_LTHGrid_CM = torch.std(100*tot_LTHGrid_CM,0)\n",
    "# print(mean_LTHGrid_CM)\n",
    "# print(std_LTHGrid_CM)\n",
    "\n",
    "LTHGrid_CM_percents = [[0,0,0],[0,0,0],[0,0,0]]\n",
    "for i in range(mean_LTHGrid_CM.shape[0]):\n",
    "#     print(i)\n",
    "    for j in range(mean_LTHGrid_CM.shape[1]):\n",
    "#         print(j)\n",
    "        LTHGrid_CM_percents[i][j] = '{:.2f}'.format(mean_LTHGrid_CM[i,j])\n",
    "    \n",
    "print(LTHGrid_CM_percents)"
   ]
  },
  {
   "cell_type": "code",
   "execution_count": null,
   "id": "63b61526",
   "metadata": {},
   "outputs": [],
   "source": []
  }
 ],
 "metadata": {
  "kernelspec": {
   "display_name": "Python 3",
   "language": "python",
   "name": "python3"
  },
  "language_info": {
   "codemirror_mode": {
    "name": "ipython",
    "version": 3
   },
   "file_extension": ".py",
   "mimetype": "text/x-python",
   "name": "python",
   "nbconvert_exporter": "python",
   "pygments_lexer": "ipython3",
   "version": "3.8.13"
  }
 },
 "nbformat": 4,
 "nbformat_minor": 5
}
