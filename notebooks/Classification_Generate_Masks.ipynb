{
 "cells": [
  {
   "cell_type": "code",
   "execution_count": 1,
   "metadata": {},
   "outputs": [],
   "source": [
    "import wandb\n",
    "# import util\n",
    "import matplotlib.pyplot as plt\n",
    "import numpy as np\n",
    "import os\n",
    "from PIL import Image\n",
    "import shutil\n",
    "import wandb\n",
    "from PIL import Image\n",
    "import os\n",
    "import glob\n",
    "from pathlib import Path\n",
    "\n",
    "from tqdm.notebook import tqdm\n",
    "from skimage.io import imread,imsave "
   ]
  },
  {
   "cell_type": "code",
   "execution_count": 2,
   "metadata": {},
   "outputs": [],
   "source": [
    "%reload_ext autoreload\n",
    "%autoreload 2\n",
    "\n",
    "from bioblue.nb.load import load_from_dir, load_from_dir2\n",
    "# from bioblue.nb import *"
   ]
  },
  {
   "cell_type": "code",
   "execution_count": 5,
   "metadata": {},
   "outputs": [],
   "source": [
    "\n",
    "#T400-T350_alternating\n",
    "run_dir = Path(\"/globalscratch/users/n/s/nsayez/outputs/2022-06-22/11-27-27\")\n",
    "\n",
    "output_dir = '/globalscratch/users/n/s/nsayez/Classification_dataset/2002-2019/T400-T350-Alternating'"
   ]
  },
  {
   "cell_type": "markdown",
   "metadata": {},
   "source": [
    "## Run the prediction on the images of the Classification Dataset"
   ]
  },
  {
   "cell_type": "code",
   "execution_count": 25,
   "metadata": {},
   "outputs": [],
   "source": [
    "dataset_overrides = [\n",
    "    'dataset.data_dir=\"/globalscratch/users/n/s/nsayez/Classification_dataset\"',\n",
    "    'dataset.dataset_name=\"2002-2019\"',\n",
    "    'dataset.train_dataset.partition=\"1024\"',\n",
    "    'dataset.val_dataset.partition=\"1024\"',\n",
    "    'dataset.test_dataset.partition=\"1024\"',\n",
    "    'dataset.train_dataset.dtypes=[\"image\"]',\n",
    "    'dataset.val_dataset.dtypes=[\"image\"]',\n",
    "    'dataset.test_dataset.dtypes=[\"image\"]',\n",
    "    \n",
    "]\n",
    "logger_overrides = [\n",
    "    \n",
    "]\n"
   ]
  },
  {
   "cell_type": "code",
   "execution_count": 12,
   "metadata": {
    "scrolled": false
   },
   "outputs": [
    {
     "name": "stdout",
     "output_type": "stream",
     "text": [
      "bioblue.loss.CombineLosses\n",
      "['sunspot']\n",
      "{'_target_': 'bioblue.dataset.BioblueDataModule', 'data_dir': '/globalscratch/users/n/s/nsayez/Classification_dataset', 'directory': 'synthetic', 'train_size': 50, 'val_size': 50, 'test_size': 50, 'shape': [512, 512], 'batch_size': 16, 'points_range': [20, 21], 'links_range': [3, 4], 'max_shapes': 1000, 'size_range': [50, 500], 'weight_range': [1, 5], 'bg_intensity_range': [0, 50], 'fg_intensity_range': [0, 256], 'num_workers': 12, 'dataset_name': '2002-2019', 'train_dataset': {'_target_': 'bioblue.dataset.DeepsunSegmentationDataset', 'partition': '1024', 'dtypes': ['image'], 'transforms': [{'_target_': 'bioblue.transforms.DeepsunRandomFlip'}, {'_target_': 'bioblue.transforms.DeepsunRandomRotate'}, {'_target_': 'bioblue.transforms.DeepsunCropNonEmptyMaskIfExists', 'height': 512, 'width': 512}, {'_target_': 'bioblue.transforms.DeepsunRandomMaskSelector'}]}, 'val_dataset': {'_target_': 'bioblue.dataset.DeepsunSegmentationDataset', 'partition': '1024', 'dtypes': ['image'], 'transforms': [{'_target_': 'bioblue.transforms.DeepsunRandomFlip'}, {'_target_': 'bioblue.transforms.DeepsunRandomRotate'}, {'_target_': 'bioblue.transforms.DeepsunCropNonEmptyMaskIfExists', 'height': 512, 'width': 512}, {'_target_': 'bioblue.transforms.DeepsunMaskMerger', 'p_add': 0.5}]}, 'test_dataset': {'_target_': 'bioblue.dataset.DeepsunSegmentationTestDataset', 'partition': '1024', 'dtypes': ['image'], 'patch_side': 512}}\n"
     ]
    },
    {
     "name": "stderr",
     "output_type": "stream",
     "text": [
      "There is a wandb run already in progress and newly created instances of `WandbLogger` will reuse this run. If this is not desired, call `wandb.finish()` before instantiating `WandbLogger`.\n",
      "GPU available: True, used: True\n",
      "TPU available: False, using: 0 TPU cores\n",
      "IPU available: False, using: 0 IPUs\n",
      "HPU available: False, using: 0 HPUs\n",
      "`Trainer(val_check_interval=1.0)` was configured so validation will run at the end of the training epoch..\n",
      "The `on_init_end` callback hook was deprecated in v1.6 and will be removed in v1.8.\n",
      "LOCAL_RANK: 0 - CUDA_VISIBLE_DEVICES: [0,1]\n"
     ]
    },
    {
     "data": {
      "application/vnd.jupyter.widget-view+json": {
       "model_id": "b64453cc03884b56a462ec2991937c2e",
       "version_major": 2,
       "version_minor": 0
      },
      "text/plain": [
       "Predicting: 0it [00:00, ?it/s]"
      ]
     },
     "metadata": {},
     "output_type": "display_data"
    }
   ],
   "source": [
    "config, model, dm, trainer = load_from_dir2(\n",
    "                                    run_path= run_dir,\n",
    "                                    load_trainer=True,\n",
    "                                    override = \n",
    "                                                dataset_overrides + logger_overrides + [\n",
    "#                                         '~callbacks.wandb',\n",
    "                                        f'callbacks.Save_prediction.output_dir={output_dir}'\n",
    "                                    ]\n",
    "                                )\n",
    "test_dataloader = dm.test_dataloader()\n",
    "\n",
    "results = trainer.predict(model, datamodule=dm)\n",
    "# # results = trainer.test(model, dataloaders=test_dataloader)"
   ]
  },
  {
   "cell_type": "code",
   "execution_count": 5,
   "metadata": {},
   "outputs": [
    {
     "data": {
      "text/html": [
       "Waiting for W&B process to finish... <strong style=\"color:green\">(success).</strong>"
      ],
      "text/plain": [
       "<IPython.core.display.HTML object>"
      ]
     },
     "metadata": {},
     "output_type": "display_data"
    },
    {
     "data": {
      "application/vnd.jupyter.widget-view+json": {
       "model_id": "",
       "version_major": 2,
       "version_minor": 0
      },
      "text/plain": [
       "VBox(children=(Label(value='0.001 MB of 0.001 MB uploaded (0.000 MB deduped)\\r'), FloatProgress(value=1.0, max…"
      ]
     },
     "metadata": {},
     "output_type": "display_data"
    },
    {
     "data": {
      "text/html": [
       "<style>\n",
       "    table.wandb td:nth-child(1) { padding: 0 10px; text-align: left ; width: auto;} td:nth-child(2) {text-align: left ; width: 100%}\n",
       "    .wandb-row { display: flex; flex-direction: row; flex-wrap: wrap; justify-content: flex-start; width: 100% }\n",
       "    .wandb-col { display: flex; flex-direction: column; flex-basis: 100%; flex: 1; padding: 10px; }\n",
       "    </style>\n",
       "<div class=\"wandb-row\"><div class=\"wandb-col\"><h3>Run history:</h3><br/><table class=\"wandb\"><tr><td>epoch</td><td>▁</td></tr><tr><td>test_bgiou</td><td>▁</td></tr><tr><td>test_loss</td><td>▁</td></tr><tr><td>test_meaniou</td><td>▁</td></tr><tr><td>test_sunspotiou</td><td>▁</td></tr><tr><td>trainer/global_step</td><td>▁</td></tr></table><br/></div><div class=\"wandb-col\"><h3>Run summary:</h3><br/><table class=\"wandb\"><tr><td>epoch</td><td>0</td></tr><tr><td>test_bgiou</td><td>0.99976</td></tr><tr><td>test_loss</td><td>0.0006</td></tr><tr><td>test_meaniou</td><td>0.87409</td></tr><tr><td>test_sunspotiou</td><td>0.74843</td></tr><tr><td>trainer/global_step</td><td>0</td></tr></table><br/></div></div>"
      ],
      "text/plain": [
       "<IPython.core.display.HTML object>"
      ]
     },
     "metadata": {},
     "output_type": "display_data"
    },
    {
     "data": {
      "text/html": [
       "Synced <strong style=\"color:#cdcd00\">Enhanced-T400-T350_alternating-StepLR</strong>: <a href=\"https://wandb.ai/nielssayez/Deepsun/runs/1iea2uih\" target=\"_blank\">https://wandb.ai/nielssayez/Deepsun/runs/1iea2uih</a><br/>Synced 6 W&B file(s), 0 media file(s), 0 artifact file(s) and 0 other file(s)"
      ],
      "text/plain": [
       "<IPython.core.display.HTML object>"
      ]
     },
     "metadata": {},
     "output_type": "display_data"
    },
    {
     "data": {
      "text/html": [
       "Find logs at: <code>./wandb/run-20220622_134241-1iea2uih/logs</code>"
      ],
      "text/plain": [
       "<IPython.core.display.HTML object>"
      ]
     },
     "metadata": {},
     "output_type": "display_data"
    }
   ],
   "source": [
    "wandb.finish()"
   ]
  },
  {
   "cell_type": "markdown",
   "metadata": {},
   "source": [
    "## View Predictions"
   ]
  },
  {
   "cell_type": "code",
   "execution_count": 7,
   "metadata": {},
   "outputs": [
    {
     "name": "stdout",
     "output_type": "stream",
     "text": [
      "3750\n",
      "3750\n"
     ]
    }
   ],
   "source": [
    "seg_types = ['GroundTruth_single']\n",
    "\n",
    "# dataset_root = \"/globalscratch/users/n/s/nsayez/deepsun_bioblue/All/test_GT\"\n",
    "dataset_root = \"/globalscratch/users/n/s/nsayez/Classification_dataset/2002-2019/\"\n",
    "\n",
    "image_folder = os.path.join(dataset_root, 'all')\n",
    "image_lst = sorted(glob.glob(os.path.join(image_folder, '*.FTS')))\n",
    "\n",
    "run_folders = { f\"{output_dir.split('/')[-1]}\": dataset_root}\n",
    "\n",
    "pred_folders = {t: os.path.join(run_folders[t] , t) for t in run_folders.keys()}\n",
    "pred_lsts = {t : sorted(glob.glob(os.path.join(pred_folders[t], '*.png'))) for t in run_folders.keys()}\n",
    "\n",
    "\n",
    "print(len(image_lst))\n",
    "print(len(pred_lsts[list(pred_lsts.keys())[0]]))"
   ]
  },
  {
   "cell_type": "code",
   "execution_count": 8,
   "metadata": {
    "scrolled": false
   },
   "outputs": [
    {
     "data": {
      "application/vnd.jupyter.widget-view+json": {
       "model_id": "cccd3ddfa724435c824bf9812c7a9ff0",
       "version_major": 2,
       "version_minor": 0
      },
      "text/plain": [
       "VBox(children=(IntSlider(value=0, description='Image Index', max=3749), HBox(children=(Checkbox(value=True, de…"
      ]
     },
     "metadata": {},
     "output_type": "display_data"
    }
   ],
   "source": [
    "%matplotlib ipympl\n",
    "\n",
    "from matplotlib import cm\n",
    "from matplotlib.colors import ListedColormap, LinearSegmentedColormap\n",
    "import ipywidgets as widgets\n",
    "\n",
    "cmap_pred = cm.cool\n",
    "cmap_pred = cmap_pred(range(255))\n",
    "cmap_pred = ListedColormap([(0, 0, 0, 0), *cmap_pred])\n",
    "\n",
    "\n",
    "def refresh(event):\n",
    "#     print(type(event['owner']))\n",
    "    if type(event[\"owner\"]) == widgets.widget_bool.Checkbox:\n",
    "        xlims0 = axes0[0].get_xlim()\n",
    "        ylims0 = axes0[0].get_ylim()\n",
    "    \n",
    "    axes0[0].clear()\n",
    "    \n",
    "    test_img = imread(image_lst[idx_slider.value])\n",
    "    basename = os.path.basename(image_lst[idx_slider.value])\n",
    "    axes0[0].set_title(basename)\n",
    "    \n",
    "    if img_cb.value:\n",
    "        axes0[0].imshow(test_img, cmap=\"gray\", interpolation=\"None\")\n",
    "    \n",
    "    for i, cb in enumerate(pred_cbs):\n",
    "        if cb.value: \n",
    "            tmp = imread(pred_lsts[list(pred_folders.keys())[i]][idx_slider.value])\n",
    "            axes0[0].imshow(tmp, cmap=cmap_pred, interpolation=\"None\", alpha=.5)  \n",
    "#             axes0[0].imshow(tmp, interpolation=\"None\")  \n",
    "\n",
    "       \n",
    "    if type(event[\"owner\"]) == widgets.widget_bool.Checkbox:  \n",
    "        if xlims0 != (0.0, 1.0):\n",
    "            axes0[0].set_xlim(xlims0)\n",
    "            axes0[0].set_ylim(ylims0)\n",
    "    return\n",
    "\n",
    "max_rows = 1\n",
    "max_cols = 1\n",
    "\n",
    "plt.ioff()\n",
    "fig_widget0, axes0 = plt.subplots(nrows=max_rows, ncols=max_cols, figsize=(7,7))\n",
    "\n",
    "try:\n",
    "    len(axes0)\n",
    "except TypeError:\n",
    "    axes0 = [axes0]\n",
    "\n",
    "plt.ion()\n",
    "img_cb = widgets.Checkbox(value=True, description='Show img')\n",
    "pred_cbs = [widgets.Checkbox(value=False, description=f'PRED {t}') for t in pred_folders.keys()]\n",
    "\n",
    "idx_slider = widgets.IntSlider(value=0, min=0, max=len(image_lst)-1, step=1, description=\"Image Index\")\n",
    "\n",
    "\n",
    "# Input image to predict\n",
    "test_img = imread(image_lst[0])\n",
    "\n",
    "axes0[0].imshow(test_img, cmap=\"gray\", interpolation=\"None\")\n",
    "\n",
    "img_cb.observe(refresh, names='value')\n",
    "for cb in pred_cbs:\n",
    "    cb.observe(refresh, names='value')\n",
    "idx_slider.observe(refresh, names='value')\n",
    "\n",
    "widgets.VBox([idx_slider,widgets.HBox([ img_cb]+pred_cbs), fig_widget0.canvas])"
   ]
  },
  {
   "cell_type": "code",
   "execution_count": null,
   "metadata": {},
   "outputs": [],
   "source": [
    "# images intéressantes:\n",
    "#     142\n",
    "\n",
    "# images_pourries: \n",
    "69,75,93\n",
    "94,201,203,311,315,337,341,403,409,420,441,613,615,668,726,743,755,778,779,976,996"
   ]
  }
 ],
 "metadata": {
  "interpreter": {
   "hash": "1f3e85867ab3feeb73691fcc67a502ec8f0fc265745d17c9ab3a5329e7f22e4e"
  },
  "kernelspec": {
   "display_name": "Python 3",
   "language": "python",
   "name": "python3"
  },
  "language_info": {
   "codemirror_mode": {
    "name": "ipython",
    "version": 3
   },
   "file_extension": ".py",
   "mimetype": "text/x-python",
   "name": "python",
   "nbconvert_exporter": "python",
   "pygments_lexer": "ipython3",
   "version": "3.8.13"
  }
 },
 "nbformat": 4,
 "nbformat_minor": 2
}
