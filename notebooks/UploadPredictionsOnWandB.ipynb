{
 "cells": [
  {
   "cell_type": "code",
   "execution_count": 1,
   "metadata": {},
   "outputs": [],
   "source": [
    "import wandb\n",
    "# import util\n",
    "import matplotlib.pyplot as plt\n",
    "import numpy as np\n",
    "import os\n",
    "from PIL import Image\n",
    "import shutil\n",
    "import wandb\n",
    "from PIL import Image\n",
    "import os\n",
    "import glob\n",
    "from pathlib import Path\n",
    "\n",
    "from tqdm.notebook import tqdm\n",
    "from skimage.io import imread,imsave "
   ]
  },
  {
   "cell_type": "code",
   "execution_count": 2,
   "metadata": {},
   "outputs": [],
   "source": [
    "%reload_ext autoreload\n",
    "%autoreload 2\n",
    "\n",
    "from bioblue.nb.load import load_from_dir, load_from_dir2\n",
    "# from bioblue.nb import *"
   ]
  },
  {
   "cell_type": "code",
   "execution_count": 13,
   "metadata": {},
   "outputs": [],
   "source": [
    "# run_dir = Path(\"/globalscratch/users/n/s/nsayez/outputs/2022-06-05/14-29-30\")\n",
    "run_dir = Path(\"/globalscratch/users/n/s/nsayez/outputs/2022-06-05/18-24-05\")\n"
   ]
  },
  {
   "cell_type": "markdown",
   "metadata": {},
   "source": [
    "## Run the prediction on the manually annotated images"
   ]
  },
  {
   "cell_type": "code",
   "execution_count": 14,
   "metadata": {
    "scrolled": false
   },
   "outputs": [
    {
     "name": "stderr",
     "output_type": "stream",
     "text": [
      "GPU available: True, used: True\n",
      "TPU available: False, using: 0 TPU cores\n",
      "IPU available: False, using: 0 IPUs\n",
      "HPU available: False, using: 0 HPUs\n",
      "`Trainer(val_check_interval=1.0)` was configured so validation will run at the end of the training epoch..\n"
     ]
    },
    {
     "name": "stdout",
     "output_type": "stream",
     "text": [
      "bioblue.loss.CombineLosses\n",
      "['sunspot']\n"
     ]
    }
   ],
   "source": [
    "config, model, dm, trainer = load_from_dir2(\n",
    "                                    run_path= run_dir,\n",
    "                                    load_trainer=True,\n",
    "                                    override = [\n",
    "                                        '~callbacks.wandb',\n",
    "                                        f'callbacks.Save_prediction.output_dir={str(run_dir/\"predictions\")}'\n",
    "                                    ]\n",
    "                                )\n",
    "test_dataloader = dm.test_dataloader()\n",
    "\n",
    "# results = trainer.test(model, datamodule=dm)\n",
    "# # results = trainer.test(model, dataloaders=test_dataloader)"
   ]
  },
  {
   "cell_type": "markdown",
   "metadata": {},
   "source": [
    "## Run DICE computation"
   ]
  },
  {
   "cell_type": "code",
   "execution_count": 15,
   "metadata": {
    "scrolled": false
   },
   "outputs": [],
   "source": [
    "def generalized_dice_coefficient( y_true, y_pred,  smooth= 1e-5):\n",
    "    y_true_f = y_true.flatten()\n",
    "    y_pred_f = y_pred.flatten()\n",
    "    intersection = np.sum(y_true_f * y_pred_f)\n",
    "    score = (2. * intersection + smooth) / (\n",
    "                np.sum(y_true_f) + np.sum(y_pred_f) + smooth)\n",
    "    return score"
   ]
  },
  {
   "cell_type": "code",
   "execution_count": 29,
   "metadata": {},
   "outputs": [
    {
     "name": "stdout",
     "output_type": "stream",
     "text": [
      "{'T400_single': '/globalscratch/users/n/s/nsayez/deepsun_bioblue/All/test_GT/T400_single'}\n"
     ]
    }
   ],
   "source": [
    "cfg_dataset = config[\"dataset\"]\n",
    "\n",
    "dtypes_paths = {}\n",
    "for t in  cfg_dataset[\"train_dataset\"]['dtypes'][1:]:\n",
    "    \n",
    "    p = Path(cfg_dataset[\"data_dir\"]) / cfg_dataset[\"dataset_name\"]\n",
    "    p = p / cfg_dataset[\"test_dataset\"][\"partition\"] /t\n",
    "#     cfg_dataset[\"train_dataset\"][\"partition\"]/ t\n",
    "    dtypes_paths[t] = str(p)\n",
    "print(dtypes_paths)"
   ]
  },
  {
   "cell_type": "code",
   "execution_count": 20,
   "metadata": {
    "scrolled": false
   },
   "outputs": [
    {
     "name": "stdout",
     "output_type": "stream",
     "text": [
      "\t idx=0 gen_dice: 0.9124266880984376, pred_dice: 0.9200039749975136\n",
      "\t idx=1 gen_dice: 0.8303370791282666, pred_dice: 0.8184760228935687\n",
      "\t idx=2 gen_dice: 0.9217234008208162, pred_dice: 0.922664432406649\n",
      "\t idx=3 gen_dice: 0.816317626927754, pred_dice: 0.7832422591456234\n",
      "\t idx=4 gen_dice: 0.8228295223807125, pred_dice: 0.7439320390939198\n",
      "\t idx=5 gen_dice: 0.852309099560336, pred_dice: 0.8441045884457213\n",
      "\t idx=6 gen_dice: 0.8862206978667219, pred_dice: 0.8712928307765827\n",
      "\t idx=7 gen_dice: 0.851081647102468, pred_dice: 0.8181685837557598\n",
      "\t idx=8 gen_dice: 0.6228239918215862, pred_dice: 0.601178789760731\n",
      "\t idx=9 gen_dice: 0.8753888381743926, pred_dice: 0.8474894417198597\n",
      "\t idx=10 gen_dice: 0.8684013010580427, pred_dice: 0.8414958744733192\n",
      "\t idx=11 gen_dice: 0.828236538443433, pred_dice: 0.83577176313481\n",
      "\t idx=12 gen_dice: 0.8448022402206494, pred_dice: 0.8577538530655897\n",
      "\t idx=13 gen_dice: 0.5315855977075402, pred_dice: 0.768657511158674\n",
      "\t idx=14 gen_dice: 0.8924720547111761, pred_dice: 0.8729815901748621\n",
      "\t idx=15 gen_dice: 0.8557515137460496, pred_dice: 0.8439259857281765\n",
      "\t idx=16 gen_dice: 0.873681668244359, pred_dice: 0.8619996651632895\n",
      "\t idx=17 gen_dice: 0.8475390174365064, pred_dice: 0.8029925211596942\n",
      "\t idx=18 gen_dice: 3.030302112029663e-07, pred_dice: 0.10810834915990561\n",
      "\t idx=19 gen_dice: 0.8910288901993092, pred_dice: 0.8622651269397257\n",
      "\t idx=20 gen_dice: 0.7662378419634834, pred_dice: 0.7293653412385224\n",
      "\t idx=21 gen_dice: 0.9054616027017977, pred_dice: 0.8788052846674174\n",
      "\t idx=22 gen_dice: 0.8922908695238001, pred_dice: 0.8794585698199039\n",
      "\t idx=23 gen_dice: 0.8342273312024845, pred_dice: 0.7574404767920623\n",
      "\t idx=24 gen_dice: 0.8683049782224218, pred_dice: 0.8635097495751896\n",
      "\t idx=25 gen_dice: 0.9032085564085333, pred_dice: 0.9070631972728008\n",
      "\t idx=26 gen_dice: 0.88276536787418, pred_dice: 0.8651494567507652\n",
      "\t idx=27 gen_dice: 0.9005028736525656, pred_dice: 0.8891157094839791\n",
      "\t idx=28 gen_dice: 0.9019392610648751, pred_dice: 0.8868778282675758\n",
      "\t idx=29 gen_dice: 0.8563599655950966, pred_dice: 0.8710052297051057\n",
      "\t idx=30 gen_dice: 0.8885903035622099, pred_dice: 0.8686821525987135\n",
      "\t idx=31 gen_dice: 0.5845932355320861, pred_dice: 0.5075987879361794\n",
      "\t idx=32 gen_dice: 0.8572354563972849, pred_dice: 0.8380700597520323\n",
      "\t idx=33 gen_dice: 0.5944444557098763, pred_dice: 0.5533141339102555\n",
      "\t idx=34 gen_dice: 0.8283378769981216, pred_dice: 0.7678571463116496\n",
      "\t idx=35 gen_dice: 0.8912865018279741, pred_dice: 0.8752238807460013\n",
      "\n",
      " mean_gen_dice:  0.8105762276365432  mean_pred_dice:  0.7990289502217257\n"
     ]
    }
   ],
   "source": [
    "dataset_root = \"/globalscratch/users/n/s/nsayez/deepsun_bioblue/All/test_GT\"\n",
    "\n",
    "image_folder = os.path.join(dataset_root, 'image')\n",
    "image_lst = sorted(glob.glob(os.path.join(image_folder, '*.FTS')))\n",
    "\n",
    "seg_types = ['GroundTruth_single']\n",
    "gt_folders = {t : os.path.join(dataset_root, t) for t in seg_types}\n",
    "gt_lst = sorted(glob.glob(os.path.join(gt_folders['GroundTruth_single'], '*.png')))\n",
    "\n",
    "preds = sorted(glob.glob(os.path.join(str(run_dir / 'predictions'), '*.png')))\n",
    "gens = {t: sorted(glob.glob(os.path.join(p, '*.png'))) for t, p in dtypes_paths.items()}\n",
    "\n",
    "pred_dices = []\n",
    "gen_dices = []\n",
    "for idx in range(len(image_lst)):\n",
    "    test_img_name = image_lst[idx]\n",
    "    test_label_name = gt_lst[idx]\n",
    "    gen_label_name = gens[cfg_dataset[\"train_dataset\"]['dtypes'][1]][idx]\n",
    "    pred_label_name = preds[idx]\n",
    "\n",
    "#     print(test_img_name)\n",
    "#     print(test_label_name)\n",
    "#     print(gen_label_name)\n",
    "#     print(pred_label_name)\n",
    "#     print()\n",
    "\n",
    "    assert os.path.basename(test_img_name).split('.')[0] == \\\n",
    "            os.path.basename(test_label_name).split('.')[0] == \\\n",
    "            os.path.basename(pred_label_name).split('.')[0] == \\\n",
    "            os.path.basename(gen_label_name).split('.')[0]\n",
    "    \n",
    "    test_img = imread(test_img_name)\n",
    "    test_label = imread(test_label_name)\n",
    "    pred_label = imread(pred_label_name)\n",
    "    gen_label = imread(gen_label_name)\n",
    "    \n",
    "    pred_dice = generalized_dice_coefficient(test_label, pred_label)\n",
    "    pred_dices.append(pred_dice)\n",
    "    \n",
    "    gen_dice = generalized_dice_coefficient(test_label, gen_label)\n",
    "    gen_dices.append(gen_dice)\n",
    "    \n",
    "    print(f\"\\t idx={idx} gen_dice: {gen_dice}, pred_dice: {pred_dice}\")\n",
    "\n",
    "mean_gen_dice = np.array(gen_dices).mean()\n",
    "mean_pred_dice = np.array(pred_dices).mean()\n",
    "\n",
    "print(\"\\n mean_gen_dice: \",mean_gen_dice, \" mean_pred_dice: \", mean_pred_dice)"
   ]
  },
  {
   "cell_type": "markdown",
   "metadata": {},
   "source": [
    "## Connect to the finished run"
   ]
  },
  {
   "cell_type": "code",
   "execution_count": 41,
   "metadata": {},
   "outputs": [
    {
     "name": "stdout",
     "output_type": "stream",
     "text": [
      "dtsgj1sr\n"
     ]
    }
   ],
   "source": [
    "wandb_dir = run_dir / \"wandb\"\n",
    "\n",
    "entity = \"nielssayez\"\n",
    "project = \"Deepsun\"\n",
    "runid = None\n",
    "for path in Path(wandb_dir).iterdir():\n",
    "        if path.is_dir() and str(path.stem).startswith('run') :\n",
    "            runid = str(path.stem).split(('-'))[-1]\n",
    "print(runid)"
   ]
  },
  {
   "cell_type": "code",
   "execution_count": 42,
   "metadata": {},
   "outputs": [],
   "source": [
    "api = wandb.Api()\n",
    "run = api.run(f\"{entity}/{project}/{runid}\")"
   ]
  },
  {
   "cell_type": "markdown",
   "metadata": {},
   "source": [
    "## Log DICE accuracy to remote server"
   ]
  },
  {
   "cell_type": "code",
   "execution_count": 43,
   "metadata": {},
   "outputs": [],
   "source": [
    "run.summary[\"test_DICE\"] = mean_pred_dice\n",
    "run.summary[\"gen_DICE\"] = mean_gen_dice\n",
    "run.summary.update()"
   ]
  },
  {
   "cell_type": "markdown",
   "metadata": {},
   "source": [
    "## View Predictions"
   ]
  },
  {
   "cell_type": "code",
   "execution_count": 34,
   "metadata": {},
   "outputs": [
    {
     "name": "stdout",
     "output_type": "stream",
     "text": [
      "36\n",
      "36\n",
      "36\n"
     ]
    }
   ],
   "source": [
    "seg_types = ['GroundTruth_single']\n",
    "\n",
    "dataset_root = \"/globalscratch/users/n/s/nsayez/deepsun_bioblue/All/test_GT\"\n",
    "\n",
    "image_folder = os.path.join(dataset_root, 'image')\n",
    "gt_folders = {t : os.path.join(dataset_root, t) for t in seg_types}\n",
    "\n",
    "run_folders = { f\"CNN-{cfg_dataset['train_dataset']['dtypes'][1]}\": str(run_dir)}\n",
    "\n",
    "pred_folders = {t: os.path.join(run_folders[t] , 'predictions') for t in run_folders.keys()}\n",
    "pred_lsts = {t : sorted(glob.glob(os.path.join(pred_folders[t], '*.png'))) for t in run_folders.keys()}\n",
    "\n",
    "gen_seg_types = [cfg_dataset['train_dataset']['dtypes'][1]]\n",
    "generated_folders = {t : os.path.join(dataset_root, t) for t in gen_seg_types}\n",
    "generated_lsts = {t : sorted(glob.glob(os.path.join(generated_folders[t], '*.png'))) for t in gen_seg_types}\n",
    "\n",
    "image_lst = sorted(glob.glob(os.path.join(image_folder, '*.FTS')))\n",
    "gt_lst = sorted(glob.glob(os.path.join(gt_folders['GroundTruth_single'], '*.png')))\n",
    "\n",
    "print(len(image_lst))\n",
    "print(len(pred_lsts[list(pred_lsts.keys())[0]]))\n",
    "print(len(generated_lsts[list(generated_lsts.keys())[0]]))\n",
    "\n",
    "pred_lst = pred_lsts[list(pred_lsts.keys())[0]]"
   ]
  },
  {
   "cell_type": "code",
   "execution_count": 35,
   "metadata": {
    "scrolled": false
   },
   "outputs": [
    {
     "data": {
      "application/vnd.jupyter.widget-view+json": {
       "model_id": "2a8153c29628436498948a2329dc0d4f",
       "version_major": 2,
       "version_minor": 0
      },
      "text/plain": [
       "VBox(children=(IntSlider(value=0, description='Image Index', max=35), HBox(children=(Checkbox(value=True, desc…"
      ]
     },
     "metadata": {},
     "output_type": "display_data"
    }
   ],
   "source": [
    "%matplotlib ipympl\n",
    "\n",
    "from matplotlib import cm\n",
    "from matplotlib.colors import ListedColormap, LinearSegmentedColormap\n",
    "import ipywidgets as widgets\n",
    "\n",
    "max_rows = 2\n",
    "max_cols = 2\n",
    "\n",
    "max_idx = len(gt_lst)\n",
    "\n",
    "cmap_gen = cm.winter\n",
    "cmap_gen = cmap_gen(range(255))\n",
    "cmap_gen = ListedColormap([(0, 0, 0, 0), *cmap_gen])\n",
    "\n",
    "cmap_pred = cm.cool\n",
    "cmap_pred = cmap_pred(range(255))\n",
    "cmap_pred = ListedColormap([(0, 0, 0, 0), *cmap_pred])\n",
    "\n",
    "cmap_gt = cm.Wistia\n",
    "cmap_gt = cmap_gt(range(255))\n",
    "cmap_gt = ListedColormap([(0, 0, 0, 0), *cmap_gt])\n",
    "\n",
    "\n",
    "def refresh(slider): \n",
    "    xlims0 = axes0[0].get_xlim()\n",
    "    ylims0 = axes0[0].get_ylim()\n",
    "    \n",
    "    axes0[0].clear()\n",
    "    \n",
    "    test_img = imread(image_lst[idx_slider.value])\n",
    "    test_label = imread(gt_lst[idx_slider.value])\n",
    "    \n",
    "    if img_cb.value:\n",
    "        axes0[0].imshow(test_img, cmap=\"gray\", interpolation=\"None\")\n",
    "    if gt_cb.value:\n",
    "        axes0[0].imshow(test_label, cmap=cmap_gt, interpolation=\"None\", alpha=.5)\n",
    "    \n",
    "    for i, cb in enumerate(pred_cbs):\n",
    "        if cb.value: \n",
    "            tmp = imread(pred_lsts[list(pred_folders.keys())[i]][idx_slider.value])\n",
    "            axes0[0].imshow(tmp, cmap=cmap_pred, interpolation=\"None\", alpha=.5)  \n",
    "#             axes0[0].imshow(tmp, interpolation=\"None\")  \n",
    "\n",
    "    for i, cb in enumerate(gen_cbs):\n",
    "        if cb.value: \n",
    "            tmp = imread(generated_lsts[list(generated_folders.keys())[i]][idx_slider.value])\n",
    "            axes0[0].imshow(tmp, cmap=cmap_gen, interpolation=\"None\", alpha=.5)  \n",
    "        \n",
    "    if xlims0 != (0.0, 1.0):\n",
    "        axes0[0].set_xlim(xlims0)\n",
    "        axes0[0].set_ylim(ylims0)\n",
    "    return\n",
    "\n",
    "max_rows = 1\n",
    "max_cols = 1\n",
    "\n",
    "plt.ioff()\n",
    "fig_widget0, axes0 = plt.subplots(nrows=max_rows, ncols=max_cols, figsize=(7,7))\n",
    "\n",
    "try:\n",
    "    len(axes0)\n",
    "except TypeError:\n",
    "    axes0 = [axes0]\n",
    "\n",
    "plt.ion()\n",
    "img_cb = widgets.Checkbox(value=True, description='Show img')\n",
    "gt_cb = widgets.Checkbox(value=False, description='Show gt')\n",
    "pred_cbs = [widgets.Checkbox(value=False, description=f'PRED {t}') for t in pred_folders.keys()]\n",
    "gen_cbs  = [widgets.Checkbox(value=False, description=f'GEN {t}') for t in generated_folders.keys()]\n",
    "\n",
    "idx_slider = widgets.IntSlider(value=0, min=0, max=max_idx-1, step=1, description=\"Image Index\")\n",
    "\n",
    "\n",
    "# Input image to predict\n",
    "test_img = imread(image_lst[0])\n",
    "#Target corresponding to input\n",
    "test_label = imread(gt_lst[0])\n",
    "#prediction\n",
    "pred_label = imread(pred_lst[0])\n",
    "\n",
    "axes0[0].imshow(test_img, cmap=\"gray\", interpolation=\"None\")\n",
    "\n",
    "img_cb.observe(refresh, names='value')\n",
    "gt_cb.observe(refresh, names='value')\n",
    "for cb in pred_cbs:\n",
    "    cb.observe(refresh, names='value')\n",
    "for cb in gen_cbs:\n",
    "    cb.observe(refresh, names='value')\n",
    "idx_slider.observe(refresh, names='value')\n",
    "\n",
    "widgets.VBox([idx_slider,widgets.HBox([ img_cb, gt_cb]+gen_cbs+pred_cbs), fig_widget0.canvas])"
   ]
  },
  {
   "cell_type": "markdown",
   "metadata": {},
   "source": [
    "## Poubelle"
   ]
  },
  {
   "cell_type": "code",
   "execution_count": 5,
   "metadata": {},
   "outputs": [],
   "source": [
    "# !pip install -U ipykernel"
   ]
  },
  {
   "cell_type": "code",
   "execution_count": 8,
   "metadata": {},
   "outputs": [],
   "source": [
    "# config, model, dm, trainer = load_from_dir2(\n",
    "#                                     run_path= run_dir,\n",
    "#                                     load_trainer=True,\n",
    "#                                     override = [\n",
    "#                                         f'callbacks.Save_prediction.output_dir={str(run_dir/\"predictions\")}'\n",
    "\n",
    "#                                     ]\n",
    "#                                 )\n",
    "# test_dataloader = dm.test_dataloader()\n",
    "\n",
    "# next(iter(test_dataloader))"
   ]
  },
  {
   "cell_type": "code",
   "execution_count": 7,
   "metadata": {},
   "outputs": [
    {
     "data": {
      "image/png": "[encoded data removed]",
      "text/plain": [
       "<Figure size 216x216 with 16 Axes>"
      ]
     },
     "metadata": {
      "needs_background": "light"
     },
     "output_type": "display_data"
    }
   ],
   "source": [
    "def img_to_patch_HW(x, patch_size, flatten_channels=True):\n",
    "    \"\"\"\n",
    "    Inputs:\n",
    "        x - Tensor representing the image of shape [B, C, H, W]\n",
    "        patch_size - Number of pixels per dimension of the patches (integer)\n",
    "        flatten_channels - If True, the patches will be returned in a flattened format\n",
    "                           as a feature vector instead of a image grid.\n",
    "    \"\"\"\n",
    "    H, W = x.shape\n",
    "    y = x.copy()\n",
    "    y = y.reshape(H // patch_size, patch_size, W // patch_size, patch_size)\n",
    "#     print(y.shape)\n",
    "    y = np.moveaxis(y, source=(1,2,3), destination=(2,1,3))\n",
    "#     print(y.shape)\n",
    "    y = y.reshape((y.shape[0]*y.shape[1], y.shape[2], y.shape[3]))\n",
    "#     print(y.shape)\n",
    "    return y\n",
    "\n",
    "img_fn = \"/globalscratch/users/n/s/nsayez/deepsun_bioblue/All/test_GT/image/UPH20130113150018.FTS\"\n",
    "my_image = io.imread(img_fn).astype(np.int32)\n",
    "# print(my_image.shape)\n",
    "\n",
    "img_patches = img_to_patch_HW(my_image, patch_size=512, flatten_channels=False)\n",
    "\n",
    "fig, ax = plt.subplots(4, 4, figsize=(3, 3))\n",
    "fig.suptitle(\"Images as input sequences of patches\")\n",
    "for i in range(4):\n",
    "    for j in range(4):\n",
    "        ax[i,j].imshow(img_patches[(4*i)+j])\n",
    "        ax[i,j].axis(\"off\")\n",
    "plt.show()\n",
    "plt.close()\n"
   ]
  },
  {
   "cell_type": "code",
   "execution_count": 6,
   "metadata": {},
   "outputs": [],
   "source": [
    "import torch\n",
    "import skimage.io as io\n",
    "\n",
    "def img_to_patch_BCHW(x, patch_size, flatten_channels=True):\n",
    "    \"\"\"\n",
    "    Inputs:\n",
    "        x - Tensor representing the image of shape [B, C, H, W]\n",
    "        patch_size - Number of pixels per dimension of the patches (integer)\n",
    "        flatten_channels - If True, the patches will be returned in a flattened format\n",
    "                           as a feature vector instead of a image grid.\n",
    "    \"\"\"\n",
    "    B, C, H, W = x.shape\n",
    "    x = x.reshape(B, C, H // patch_size, patch_size, W // patch_size, patch_size)\n",
    "    x = x.permute(0, 2, 4, 1, 3, 5)  # [B, H', W', C, p_H, p_W]\n",
    "    x = x.flatten(1, 2)  # [B, H'*W', C, p_H, p_W]\n",
    "    if flatten_channels:\n",
    "        x = x.flatten(2, 4)  # [B, H'*W', C*p_H*p_W]\n",
    "    print(x.shape)\n",
    "    return x\n",
    "\n",
    "# img_fn = \"/globalscratch/users/n/s/nsayez/deepsun_bioblue/All/test_GT/image/UPH20130113150018.FTS\"\n",
    "# my_image = torch.from_numpy(io.imread(img_fn).astype(np.int32))[None,None,:,:]\n",
    "# print(my_image.shape)\n",
    "\n",
    "# img_patches = img_to_patch_BCHW(my_image, patch_size=512, flatten_channels=False)\n",
    "# img_patches.flatten(0,1).shape"
   ]
  },
  {
   "cell_type": "code",
   "execution_count": 8,
   "metadata": {},
   "outputs": [
    {
     "name": "stdout",
     "output_type": "stream",
     "text": [
      "/auto/globalscratch/users/n/s/nsayez/outputs/2022-06-05/14-29-30/.hydra\n"
     ]
    }
   ],
   "source": [
    "# from hydra import initialize_config_module, initialize_config_dir, initialize, compose\n",
    "\n",
    "\n",
    "\n",
    "# config_path = run_dir / \".hydra/config.yaml\"\n",
    "\n",
    "# override = [\n",
    "# #                 \"server=mb-mil101\",\n",
    "#                 \"logger=csv_logger\"\n",
    "#             ]\n",
    "# # override = [\"logger=csv_logger\"]\n",
    "# # cfg = OmegaConf.load(config_path)\n",
    "\n",
    "# print(str(config_path.parents[0].resolve()))\n",
    "\n",
    "\n",
    "# with initialize_config_dir(config_dir=str(config_path.parents[0])):\n",
    "#     cfg = compose(\n",
    "#         config_name=\"config\", overrides=override, return_hydra_config=True\n",
    "#     )\n",
    "    \n",
    "# #     print(cfg)\n"
   ]
  },
  {
   "cell_type": "code",
   "execution_count": 7,
   "metadata": {
    "scrolled": false
   },
   "outputs": [],
   "source": [
    "# from hydra import initialize_config_module as init_hydra, compose\n",
    "\n",
    "# config_path = run_dir / \".hydra/config.yaml\"\n",
    "\n",
    "# override = [\n",
    "# #                 \"server=mb-mil101\",\n",
    "# #                 \"logger=csv_logger\"\n",
    "#             ]\n",
    "# # override = [\"logger=csv_logger\"]\n",
    "\n",
    "# cfg = OmegaConf.load(config_path)\n",
    "\n",
    "\n",
    "\n",
    "# # print(cfg)\n",
    "\n",
    "# with init_hydra(config_module=\"bioblue.conf\"):\n",
    "#     cfg2 = compose(\n",
    "#         config_name=\"config\", overrides=override, return_hydra_config=True,strict=False\n",
    "#     )\n",
    "# #     print(type(cfg2))\n",
    "\n",
    "# # print(cfg2)\n",
    "# cfg = OmegaConf.merge(cfg, cfg2)\n",
    "\n"
   ]
  }
 ],
 "metadata": {
  "interpreter": {
   "hash": "1f3e85867ab3feeb73691fcc67a502ec8f0fc265745d17c9ab3a5329e7f22e4e"
  },
  "kernelspec": {
   "display_name": "Python 3",
   "language": "python",
   "name": "python3"
  },
  "language_info": {
   "codemirror_mode": {
    "name": "ipython",
    "version": 3
   },
   "file_extension": ".py",
   "mimetype": "text/x-python",
   "name": "python",
   "nbconvert_exporter": "python",
   "pygments_lexer": "ipython3",
   "version": "3.8.13"
  }
 },
 "nbformat": 4,
 "nbformat_minor": 2
}
