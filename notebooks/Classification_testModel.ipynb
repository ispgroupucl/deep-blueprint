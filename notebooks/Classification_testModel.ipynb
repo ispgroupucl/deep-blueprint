{
 "cells": [
  {
   "cell_type": "code",
   "execution_count": 1,
   "id": "sought-fortune",
   "metadata": {},
   "outputs": [],
   "source": [
    "import wandb\n",
    "# import util\n",
    "import matplotlib.pyplot as plt\n",
    "import numpy as np\n",
    "import os\n",
    "from PIL import Image\n",
    "import shutil\n",
    "import wandb\n",
    "from PIL import Image\n",
    "import os\n",
    "import glob\n",
    "from pathlib import Path\n",
    "\n",
    "from tqdm.notebook import tqdm\n",
    "from skimage.io import imread,imsave \n",
    "\n",
    "from omegaconf import OmegaConf\n",
    "\n",
    "%matplotlib inline"
   ]
  },
  {
   "cell_type": "code",
   "execution_count": 2,
   "id": "leading-quantum",
   "metadata": {},
   "outputs": [],
   "source": [
    "# !pip install torchvision"
   ]
  },
  {
   "cell_type": "code",
   "execution_count": 3,
   "id": "surrounded-industry",
   "metadata": {},
   "outputs": [],
   "source": [
    "%reload_ext autoreload\n",
    "%autoreload 2\n",
    "\n",
    "from bioblue.nb.load import load_from_dir, load_from_dir2, load_from_cfg\n",
    "# from bioblue.nb import *"
   ]
  },
  {
   "cell_type": "code",
   "execution_count": 4,
   "id": "naked-consciousness",
   "metadata": {},
   "outputs": [
    {
     "name": "stdout",
     "output_type": "stream",
     "text": [
      "mb-mil102.cism.ucl.ac.be\r\n"
     ]
    }
   ],
   "source": [
    "!hostname"
   ]
  },
  {
   "cell_type": "code",
   "execution_count": 19,
   "id": "direct-cutting",
   "metadata": {},
   "outputs": [
    {
     "name": "stdout",
     "output_type": "stream",
     "text": [
      "{'defaults': [{'override /module': 'base_classification'}], 'trainer': {'_target_': 'pytorch_lightning.Trainer', 'max_epochs': 30, 'gpus': '${gpus}', 'auto_scale_batch_size': False, 'log_every_n_steps': 2}, 'logger': [{'_target_': 'pytorch_lightning.loggers.CSVLogger', 'save_dir': 'csv_metrics'}, {'_target_': 'pytorch_lightning.loggers.WandbLogger', 'project': 'Deepsun_classification', 'save_dir': '.'}], 'use_dtypes': ['image', 'T400-T350-Alternating'], 'use_classes': ['A', 'B', 'C', 'D', 'E', 'F', 'G', 'H', 'I', 'J', 'X'], 'module': {'_target_': 'bioblue.module.BaseClassifier', 'classifier': '${model}', 'lr': 0.0001, 'optimizer': 'torch.optim.AdamW', 'loss': {'_target_': 'torch.nn.CrossEntropyLoss'}, 'scheduler': {'_target_': 'torch.optim.lr_scheduler.StepLR', 'step_size': 250, 'gamma': 0.9, 'last_epoch': -1}}, 'model': {'_target_': 'bioblue.model.ConfResNet', 'input_format': ['image', 'angular_excentricity', 'centroid_Lat'], 'output_format': ['class'], 'classes': '${use_classes}', 'model_cfg': {'_target_': 'bioblue.model.ModelConfig'}, 'architecture': {'first': 32, 'block_width': [32, 64, 128], 'num_resnet_blocks': [6, 6, 6], 'cnn_input_size': '${dataset.train_dataset.transforms.0.standard_height}', 'fcn_width': 500, 'fcn_num_hidden': 3}}, 'dataset': {'_target_': 'bioblue.dataset.BioblueDataModule', 'data_dir': '/globalscratch/users/n/s/nsayez/Classification_dataset/', 'dataset_name': '2002-2019', 'batch_size': 16, 'num_workers': 12, 'train_dataset': {'_target_': 'bioblue.dataset.DeepsunMaskedClassificationDatasetV2', 'partition': 'train', 'dtypes': '${use_dtypes}', 'classes': '${use_classes}', 'transforms': [{'_target_': 'bioblue.transforms.DeepsunRotateAndCropAroundGroup', 'standard_height': 128, 'standard_width': 128}, {'_target_': 'bioblue.transforms.DeepsunImageMaskProduct'}]}, 'val_dataset': {'_target_': 'bioblue.dataset.DeepsunMaskedClassificationDatasetV2', 'partition': 'val', 'dtypes': '${use_dtypes}', 'classes': '${use_classes}', 'transforms': [{'_target_': 'bioblue.transforms.DeepsunRotateAndCropAroundGroup', 'standard_height': 128, 'standard_width': 128}, {'_target_': 'bioblue.transforms.DeepsunImageMaskProduct'}]}, 'test_dataset': {'_target_': 'bioblue.dataset.DeepsunMaskedClassificationDatasetV2', 'partition': 'test', 'dtypes': '${use_dtypes}', 'classes': '${use_classes}', 'transforms': [{'_target_': 'bioblue.transforms.DeepsunRotateAndCropAroundGroup', 'standard_height': 128, 'standard_width': 128}, {'_target_': 'bioblue.transforms.DeepsunImageMaskProduct'}]}}, 'callbacks': []}\n"
     ]
    }
   ],
   "source": [
    "config = OmegaConf.load('/home/ucl/elen/nsayez/bio-blueprints/bioblue/conf/exp/DeepsunClassification.yaml')\n",
    "config['use_dtypes'] = [\"image\",\"T400-T350-Alternating\"]\n",
    "print(config)"
   ]
  },
  {
   "cell_type": "code",
   "execution_count": 6,
   "id": "western-sewing",
   "metadata": {
    "scrolled": false
   },
   "outputs": [],
   "source": [
    "\n",
    "# module, datamodule = load_from_cfg(config, recursive=False)\n"
   ]
  },
  {
   "cell_type": "code",
   "execution_count": 21,
   "id": "structured-spanking",
   "metadata": {
    "scrolled": false
   },
   "outputs": [
    {
     "name": "stdout",
     "output_type": "stream",
     "text": [
      "['image', 'T400-T350-Alternating']\n",
      "['image', 'T400-T350-Alternating']\n",
      "['image', 'T400-T350-Alternating']\n",
      "/globalscratch/users/n/s/nsayez/Classification_dataset/2002-2019/image/UPH20050118150250.FTS\n",
      "/globalscratch/users/n/s/nsayez/Classification_dataset/2002-2019/image/UPH20050115090221.FTS\n",
      "/globalscratch/users/n/s/nsayez/Classification_dataset/2002-2019/image/UPH20050116092541.FTS\n",
      "/globalscratch/users/n/s/nsayez/Classification_dataset/2002-2019/image/UPH20050114091634.FTS\n",
      "/globalscratch/users/n/s/nsayez/Classification_dataset/2002-2019/image/UPH20050103105131.FTS\n",
      "/globalscratch/users/n/s/nsayez/Classification_dataset/2002-2019/image/UPH20050114091634.FTS\n",
      "/globalscratch/users/n/s/nsayez/Classification_dataset/2002-2019/image/UPH20050104091808.FTS\n",
      "/globalscratch/users/n/s/nsayez/Classification_dataset/2002-2019/image/UPH20050110112842.FTS\n",
      "/globalscratch/users/n/s/nsayez/Classification_dataset/2002-2019/image/UPH20050113093457.FTS\n",
      "/globalscratch/users/n/s/nsayez/Classification_dataset/2002-2019/image/UPH20050102092906.FTS\n"
     ]
    }
   ],
   "source": [
    "module, datamodule = load_from_cfg(config, recursive=False)\n",
    "# datamodule.train_ds\n",
    "datamodule.setup()\n",
    "train_dl = datamodule.train_dataloader()\n",
    "data = next(iter(train_dl))\n",
    "# val_dl = datamodule.val_dataloader()\n",
    "# data = next(iter(val_dl))\n",
    "\n",
    "\n",
    "\n",
    "# train_dl = datamodule.train_dataloader()\n",
    "# next(iter(train_dl))"
   ]
  },
  {
   "cell_type": "code",
   "execution_count": null,
   "id": "iraqi-reputation",
   "metadata": {},
   "outputs": [],
   "source": [
    "/globalscratch/users/n/s/nsayez/Classification_dataset/2002-2019/image/UPH20050114091634.FTS\n",
    "/globalscratch/users/n/s/nsayez/Classification_dataset/2002-2019/image/UPH20050116092541.FTS\n",
    "/globalscratch/users/n/s/nsayez/Classification_dataset/2002-2019/image/UPH20050116092541.FTS\n",
    "/globalscratch/users/n/s/nsayez/Classification_dataset/2002-2019/image/UPH20050125094658.FTS\n",
    "/globalscratch/users/n/s/nsayez/Classification_dataset/2002-2019/image/UPH20050129094451.FTS\n",
    "/globalscratch/users/n/s/nsayez/Classification_dataset/2002-2019/image/UPH20050206100139.FTS\n",
    "/globalscratch/users/n/s/nsayez/Classification_dataset/2002-2019/image/UPH20050208095144.FTS\n",
    "/globalscratch/users/n/s/nsayez/Classification_dataset/2002-2019/image/UPH20050208095144.FTS\n",
    "/globalscratch/users/n/s/nsayez/Classification_dataset/2002-2019/image/UPH20050215101827.FTS\n",
    "/globalscratch/users/n/s/nsayez/Classification_dataset/2002-2019/image/UPH20050305152741.FTS"
   ]
  },
  {
   "cell_type": "code",
   "execution_count": 7,
   "id": "level-criticism",
   "metadata": {},
   "outputs": [
    {
     "name": "stdout",
     "output_type": "stream",
     "text": [
      "image torch.Size([10, 512, 512])\n",
      "mask torch.Size([10, 512, 512])\n",
      "angular_excentricity torch.Size([10, 1])\n",
      "centroid_Lat torch.Size([10, 1])\n",
      "class torch.Size([10, 1])\n"
     ]
    }
   ],
   "source": [
    "for key in data:\n",
    "    print(key , data[key].shape)"
   ]
  },
  {
   "cell_type": "code",
   "execution_count": 15,
   "id": "digital-script",
   "metadata": {},
   "outputs": [],
   "source": [
    "# {'seed': 0, 'trainer': {'_target_': 'pytorch_lightning.Trainer', 'accumulate_grad_batches': None, 'amp_backend': 'native', 'amp_level': None, 'log_gpu_memory': None, 'auto_lr_find': False, 'auto_scale_batch_size': False, 'auto_select_gpus': False, 'benchmark': None, 'enable_checkpointing': True, 'check_val_every_n_epoch': 1, 'detect_anomaly': False, 'deterministic': False, 'fast_dev_run': False, 'gpus': '${gpus}', 'gradient_clip_val': None, 'gradient_clip_algorithm': None, 'limit_train_batches': None, 'limit_val_batches': None, 'limit_test_batches': None, 'limit_predict_batches': None, 'log_every_n_steps': 2, 'enable_progress_bar': True, 'profiler': None, 'overfit_batches': 0.0, 'plugins': None, 'precision': 32, 'max_epochs': 30, 'min_epochs': None, 'max_steps': -1, 'min_steps': None, 'max_time': None, 'num_nodes': 1, 'num_processes': None, 'num_sanity_val_steps': 2, 'reload_dataloaders_every_n_epochs': 0, 'strategy': None, 'sync_batchnorm': False, 'track_grad_norm': -1, 'val_check_interval': 1.0, 'enable_model_summary': True, 'weights_save_path': None, 'move_metrics_to_cpu': False, 'multiple_trainloader_mode': 'max_size_cycle'}, 'model': {'_target_': 'bioblue.model.ConfResNet', 'model_cfg': {'_target_': 'bioblue.model.ModelConfig'}, 'architecture': {'first': 32, 'enc': {'width': [16, 32, 48, 96], 'repeat': [2, 3, 3, 4]}, 'dec': {'width': [48, 32, 32], 'repeat': [2, 2, 1]}, 'block_width': [32, 64, 128], 'num_resnet_blocks': [6, 6, 6]}, 'input_format': ['image'], 'output_format': ['class'], 'classes': ['A', 'B', 'C', 'D', 'E', 'F', 'G', 'H', 'I', 'J', 'Unknown']}, 'module': {'_target_': 'bioblue.module.BaseClassifier', 'segmenter': '${model}', 'lr': 0.0001, 'classifier': '${model}', 'optimizer': 'torch.optim.AdamW', 'loss': {'_target_': 'torch.nn.CrossEntropyLoss'}, 'scheduler': {'_target_': 'torch.optim.lr_scheduler.StepLR', 'step_size': 250, 'gamma': 0.9, 'last_epoch': -1}}, 'dataset': {'_target_': 'bioblue.dataset.BioblueDataModule', 'data_dir': '/globalscratch/users/n/s/nsayez/Classification_dataset/', 'directory': 'synthetic', 'train_size': 50, 'val_size': 50, 'test_size': 50, 'shape': [512, 512], 'batch_size': 16, 'points_range': [20, 21], 'links_range': [3, 4], 'max_shapes': 1000, 'size_range': [50, 500], 'weight_range': [1, 5], 'bg_intensity_range': [0, 50], 'fg_intensity_range': [0, 256], 'num_workers': 12, 'dataset_name': '2002-2019', 'train_dataset': {'_target_': 'bioblue.dataset.DeepsunMaskedClassificationDataset', 'root_dir': '${dataset.data_dir}', 'partition': 'train', 'dtypes': '${use_dtypes}'}, 'val_dataset': {'_target_': 'bioblue.dataset.DeepsunSegmentationDataset', 'partition': 'test', 'dtypes': '${use_dtypes}'}, 'test_dataset': {'_target_': 'bioblue.dataset.DeepsunSegmentationTestDataset', 'partition': 'test_GT', 'dtypes': ['image', 'GroundTruth']}}, 'logger': [], 'exp': '???', 'gpus': 1, 'use_dtypes': ['image', 'T400-T350-Alternating']}"
   ]
  },
  {
   "cell_type": "code",
   "execution_count": null,
   "id": "oriental-popularity",
   "metadata": {},
   "outputs": [],
   "source": []
  }
 ],
 "metadata": {
  "kernelspec": {
   "display_name": "Python 3.8.13 64-bit ('new-bioblue': conda)",
   "language": "python",
   "name": "python3813jvsc74a57bd01f3e85867ab3feeb73691fcc67a502ec8f0fc265745d17c9ab3a5329e7f22e4e"
  },
  "language_info": {
   "codemirror_mode": {
    "name": "ipython",
    "version": 3
   },
   "file_extension": ".py",
   "mimetype": "text/x-python",
   "name": "python",
   "nbconvert_exporter": "python",
   "pygments_lexer": "ipython3",
   "version": "3.8.13"
  }
 },
 "nbformat": 4,
 "nbformat_minor": 5
}
